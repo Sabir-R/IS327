{
 "cells": [
  {
   "cell_type": "code",
   "execution_count": 55,
   "metadata": {},
   "outputs": [],
   "source": [
    "import pandas as pd"
   ]
  },
  {
   "cell_type": "code",
   "execution_count": 56,
   "metadata": {},
   "outputs": [],
   "source": [
    "df = pd.read_csv(\"https://raw.githubusercontent.com/jiaqima/is327-resources/main/data/class_grades.csv\")"
   ]
  },
  {
   "cell_type": "code",
   "execution_count": 57,
   "metadata": {},
   "outputs": [
    {
     "data": {
      "text/html": [
       "<div>\n",
       "<style scoped>\n",
       "    .dataframe tbody tr th:only-of-type {\n",
       "        vertical-align: middle;\n",
       "    }\n",
       "\n",
       "    .dataframe tbody tr th {\n",
       "        vertical-align: top;\n",
       "    }\n",
       "\n",
       "    .dataframe thead th {\n",
       "        text-align: right;\n",
       "    }\n",
       "</style>\n",
       "<table border=\"1\" class=\"dataframe\">\n",
       "  <thead>\n",
       "    <tr style=\"text-align: right;\">\n",
       "      <th></th>\n",
       "      <th>name</th>\n",
       "      <th>homewk1</th>\n",
       "      <th>homewk2</th>\n",
       "      <th>midterm</th>\n",
       "      <th>partic</th>\n",
       "      <th>exam</th>\n",
       "    </tr>\n",
       "  </thead>\n",
       "  <tbody>\n",
       "    <tr>\n",
       "      <th>0</th>\n",
       "      <td>Genevieve Gallegos</td>\n",
       "      <td>95</td>\n",
       "      <td>100</td>\n",
       "      <td>100</td>\n",
       "      <td>100</td>\n",
       "      <td>100</td>\n",
       "    </tr>\n",
       "    <tr>\n",
       "      <th>1</th>\n",
       "      <td>Masako Holley</td>\n",
       "      <td>40</td>\n",
       "      <td>55</td>\n",
       "      <td>48</td>\n",
       "      <td>78</td>\n",
       "      <td>62</td>\n",
       "    </tr>\n",
       "    <tr>\n",
       "      <th>2</th>\n",
       "      <td>Pearle Goodman</td>\n",
       "      <td>62</td>\n",
       "      <td>80</td>\n",
       "      <td>80</td>\n",
       "      <td>81</td>\n",
       "      <td>85</td>\n",
       "    </tr>\n",
       "    <tr>\n",
       "      <th>3</th>\n",
       "      <td>Douglas Schmidt</td>\n",
       "      <td>66</td>\n",
       "      <td>84</td>\n",
       "      <td>74</td>\n",
       "      <td>83</td>\n",
       "      <td>82</td>\n",
       "    </tr>\n",
       "    <tr>\n",
       "      <th>4</th>\n",
       "      <td>Russell Mills</td>\n",
       "      <td>8</td>\n",
       "      <td>22</td>\n",
       "      <td>27</td>\n",
       "      <td>72</td>\n",
       "      <td>40</td>\n",
       "    </tr>\n",
       "  </tbody>\n",
       "</table>\n",
       "</div>"
      ],
      "text/plain": [
       "                 name  homewk1  homewk2  midterm  partic  exam\n",
       "0  Genevieve Gallegos       95      100      100     100   100\n",
       "1       Masako Holley       40       55       48      78    62\n",
       "2      Pearle Goodman       62       80       80      81    85\n",
       "3     Douglas Schmidt       66       84       74      83    82\n",
       "4       Russell Mills        8       22       27      72    40"
      ]
     },
     "execution_count": 57,
     "metadata": {},
     "output_type": "execute_result"
    }
   ],
   "source": [
    "df.head()"
   ]
  },
  {
   "cell_type": "code",
   "execution_count": 58,
   "metadata": {},
   "outputs": [
    {
     "data": {
      "text/plain": [
       "50"
      ]
     },
     "execution_count": 58,
     "metadata": {},
     "output_type": "execute_result"
    }
   ],
   "source": [
    "len(df)"
   ]
  },
  {
   "cell_type": "code",
   "execution_count": 59,
   "metadata": {},
   "outputs": [],
   "source": [
    "df[\"pass\"] = df[\"exam\"] > 60"
   ]
  },
  {
   "cell_type": "code",
   "execution_count": 60,
   "metadata": {},
   "outputs": [
    {
     "data": {
      "text/html": [
       "<div>\n",
       "<style scoped>\n",
       "    .dataframe tbody tr th:only-of-type {\n",
       "        vertical-align: middle;\n",
       "    }\n",
       "\n",
       "    .dataframe tbody tr th {\n",
       "        vertical-align: top;\n",
       "    }\n",
       "\n",
       "    .dataframe thead th {\n",
       "        text-align: right;\n",
       "    }\n",
       "</style>\n",
       "<table border=\"1\" class=\"dataframe\">\n",
       "  <thead>\n",
       "    <tr style=\"text-align: right;\">\n",
       "      <th></th>\n",
       "      <th>name</th>\n",
       "      <th>homewk1</th>\n",
       "      <th>homewk2</th>\n",
       "      <th>midterm</th>\n",
       "      <th>partic</th>\n",
       "      <th>exam</th>\n",
       "      <th>pass</th>\n",
       "    </tr>\n",
       "  </thead>\n",
       "  <tbody>\n",
       "    <tr>\n",
       "      <th>0</th>\n",
       "      <td>Genevieve Gallegos</td>\n",
       "      <td>95</td>\n",
       "      <td>100</td>\n",
       "      <td>100</td>\n",
       "      <td>100</td>\n",
       "      <td>100</td>\n",
       "      <td>True</td>\n",
       "    </tr>\n",
       "    <tr>\n",
       "      <th>1</th>\n",
       "      <td>Masako Holley</td>\n",
       "      <td>40</td>\n",
       "      <td>55</td>\n",
       "      <td>48</td>\n",
       "      <td>78</td>\n",
       "      <td>62</td>\n",
       "      <td>True</td>\n",
       "    </tr>\n",
       "    <tr>\n",
       "      <th>2</th>\n",
       "      <td>Pearle Goodman</td>\n",
       "      <td>62</td>\n",
       "      <td>80</td>\n",
       "      <td>80</td>\n",
       "      <td>81</td>\n",
       "      <td>85</td>\n",
       "      <td>True</td>\n",
       "    </tr>\n",
       "    <tr>\n",
       "      <th>3</th>\n",
       "      <td>Douglas Schmidt</td>\n",
       "      <td>66</td>\n",
       "      <td>84</td>\n",
       "      <td>74</td>\n",
       "      <td>83</td>\n",
       "      <td>82</td>\n",
       "      <td>True</td>\n",
       "    </tr>\n",
       "    <tr>\n",
       "      <th>4</th>\n",
       "      <td>Russell Mills</td>\n",
       "      <td>8</td>\n",
       "      <td>22</td>\n",
       "      <td>27</td>\n",
       "      <td>72</td>\n",
       "      <td>40</td>\n",
       "      <td>False</td>\n",
       "    </tr>\n",
       "  </tbody>\n",
       "</table>\n",
       "</div>"
      ],
      "text/plain": [
       "                 name  homewk1  homewk2  midterm  partic  exam   pass\n",
       "0  Genevieve Gallegos       95      100      100     100   100   True\n",
       "1       Masako Holley       40       55       48      78    62   True\n",
       "2      Pearle Goodman       62       80       80      81    85   True\n",
       "3     Douglas Schmidt       66       84       74      83    82   True\n",
       "4       Russell Mills        8       22       27      72    40  False"
      ]
     },
     "execution_count": 60,
     "metadata": {},
     "output_type": "execute_result"
    }
   ],
   "source": [
    "df.head()"
   ]
  },
  {
   "cell_type": "code",
   "execution_count": 61,
   "metadata": {},
   "outputs": [
    {
     "data": {
      "text/plain": [
       "57.14"
      ]
     },
     "execution_count": 61,
     "metadata": {},
     "output_type": "execute_result"
    }
   ],
   "source": [
    "df[\"homewk1\"].mean()"
   ]
  },
  {
   "cell_type": "code",
   "execution_count": 62,
   "metadata": {},
   "outputs": [],
   "source": [
    "# create a \"clever algorithm\" to predict exam pass by homewk1\n",
    "\n",
    "def predict(homewk1):\n",
    "    \n",
    "    exam_pass = homewk1 > 57.14 #True or False\n",
    "    \n",
    "    return exam_pass"
   ]
  },
  {
   "cell_type": "code",
   "execution_count": 63,
   "metadata": {},
   "outputs": [
    {
     "data": {
      "text/plain": [
       "True"
      ]
     },
     "execution_count": 63,
     "metadata": {},
     "output_type": "execute_result"
    }
   ],
   "source": [
    "predict(75)"
   ]
  },
  {
   "cell_type": "code",
   "execution_count": 64,
   "metadata": {},
   "outputs": [
    {
     "data": {
      "text/plain": [
       "False"
      ]
     },
     "execution_count": 64,
     "metadata": {},
     "output_type": "execute_result"
    }
   ],
   "source": [
    "predict(55)"
   ]
  },
  {
   "cell_type": "code",
   "execution_count": 65,
   "metadata": {},
   "outputs": [
    {
     "data": {
      "text/plain": [
       "0     True\n",
       "1    False\n",
       "2     True\n",
       "3     True\n",
       "4    False\n",
       "Name: homewk1, dtype: bool"
      ]
     },
     "execution_count": 65,
     "metadata": {},
     "output_type": "execute_result"
    }
   ],
   "source": [
    "predict(df[\"homewk1\"]).head()"
   ]
  },
  {
   "cell_type": "code",
   "execution_count": 66,
   "metadata": {},
   "outputs": [],
   "source": [
    "predictions = predict(df[\"homewk1\"])"
   ]
  },
  {
   "cell_type": "code",
   "execution_count": 67,
   "metadata": {},
   "outputs": [
    {
     "data": {
      "text/plain": [
       "0.64"
      ]
     },
     "execution_count": 67,
     "metadata": {},
     "output_type": "execute_result"
    }
   ],
   "source": [
    "acc = (predictions == df[\"pass\"]).mean()\n",
    "acc"
   ]
  },
  {
   "cell_type": "code",
   "execution_count": 68,
   "metadata": {},
   "outputs": [],
   "source": [
    "# parameterize the model\n",
    "\n",
    "def predict(homewk1, cutoff):\n",
    "    \n",
    "    exam_pass = homewk1 > cutoff #True or False\n",
    "    \n",
    "    return exam_pass"
   ]
  },
  {
   "cell_type": "code",
   "execution_count": 71,
   "metadata": {},
   "outputs": [
    {
     "data": {
      "text/plain": [
       "0.64"
      ]
     },
     "execution_count": 71,
     "metadata": {},
     "output_type": "execute_result"
    }
   ],
   "source": [
    "predictions = predict(df[\"homewk1\"], 57.14)\n",
    "acc = (predictions == df[\"pass\"]).mean()\n",
    "acc"
   ]
  },
  {
   "cell_type": "code",
   "execution_count": 72,
   "metadata": {},
   "outputs": [
    {
     "data": {
      "text/plain": [
       "0.8"
      ]
     },
     "execution_count": 72,
     "metadata": {},
     "output_type": "execute_result"
    }
   ],
   "source": [
    "predictions = predict(df[\"homewk1\"], 50)\n",
    "acc = (predictions == df[\"pass\"]).mean()\n",
    "acc"
   ]
  },
  {
   "cell_type": "code",
   "execution_count": 74,
   "metadata": {},
   "outputs": [
    {
     "name": "stdout",
     "output_type": "stream",
     "text": [
      "Best accuracy: 0.94\n",
      "Learned cutoff value: 34\n"
     ]
    }
   ],
   "source": [
    "# this is a machine learning algorithm\n",
    "\n",
    "best_acc = 0\n",
    "\n",
    "for cutoff in range(0, 100):\n",
    "    predictions = predict(df[\"homewk1\"], cutoff)\n",
    "    acc = (predictions == df[\"pass\"]).mean()\n",
    "    if acc > best_acc:\n",
    "        best_acc = acc\n",
    "        best_cutoff = cutoff\n",
    "\n",
    "print(\"Best accuracy:\", best_acc)\n",
    "print(\"Learned cutoff value:\", best_cutoff)"
   ]
  },
  {
   "cell_type": "code",
   "execution_count": 75,
   "metadata": {},
   "outputs": [
    {
     "data": {
      "text/plain": [
       "False"
      ]
     },
     "execution_count": 75,
     "metadata": {},
     "output_type": "execute_result"
    }
   ],
   "source": [
    "# the learned model is predict(input, best_cutoff)\n",
    "\n",
    "predict(8, best_cutoff)"
   ]
  },
  {
   "cell_type": "markdown",
   "metadata": {},
   "source": [
    "## But we need to evaluate the model on new data"
   ]
  },
  {
   "cell_type": "code",
   "execution_count": 77,
   "metadata": {},
   "outputs": [],
   "source": [
    "df_test = pd.read_csv(\"https://raw.githubusercontent.com/jiaqima/is327-resources/main/data/class_grades_test.csv\")"
   ]
  },
  {
   "cell_type": "code",
   "execution_count": 78,
   "metadata": {},
   "outputs": [
    {
     "data": {
      "text/html": [
       "<div>\n",
       "<style scoped>\n",
       "    .dataframe tbody tr th:only-of-type {\n",
       "        vertical-align: middle;\n",
       "    }\n",
       "\n",
       "    .dataframe tbody tr th {\n",
       "        vertical-align: top;\n",
       "    }\n",
       "\n",
       "    .dataframe thead th {\n",
       "        text-align: right;\n",
       "    }\n",
       "</style>\n",
       "<table border=\"1\" class=\"dataframe\">\n",
       "  <thead>\n",
       "    <tr style=\"text-align: right;\">\n",
       "      <th></th>\n",
       "      <th>name</th>\n",
       "      <th>homewk1</th>\n",
       "      <th>homewk2</th>\n",
       "      <th>midterm</th>\n",
       "      <th>partic</th>\n",
       "      <th>exam</th>\n",
       "    </tr>\n",
       "  </thead>\n",
       "  <tbody>\n",
       "    <tr>\n",
       "      <th>0</th>\n",
       "      <td>Amber Mccoy</td>\n",
       "      <td>67</td>\n",
       "      <td>77</td>\n",
       "      <td>88</td>\n",
       "      <td>77</td>\n",
       "      <td>85</td>\n",
       "    </tr>\n",
       "    <tr>\n",
       "      <th>1</th>\n",
       "      <td>Francis Tedesco</td>\n",
       "      <td>48</td>\n",
       "      <td>50</td>\n",
       "      <td>42</td>\n",
       "      <td>68</td>\n",
       "      <td>74</td>\n",
       "    </tr>\n",
       "    <tr>\n",
       "      <th>2</th>\n",
       "      <td>Jeffrey Doyle</td>\n",
       "      <td>77</td>\n",
       "      <td>94</td>\n",
       "      <td>74</td>\n",
       "      <td>60</td>\n",
       "      <td>94</td>\n",
       "    </tr>\n",
       "    <tr>\n",
       "      <th>3</th>\n",
       "      <td>Bertha Rivera</td>\n",
       "      <td>63</td>\n",
       "      <td>76</td>\n",
       "      <td>83</td>\n",
       "      <td>82</td>\n",
       "      <td>92</td>\n",
       "    </tr>\n",
       "    <tr>\n",
       "      <th>4</th>\n",
       "      <td>Ronald Anderson</td>\n",
       "      <td>55</td>\n",
       "      <td>60</td>\n",
       "      <td>48</td>\n",
       "      <td>71</td>\n",
       "      <td>76</td>\n",
       "    </tr>\n",
       "  </tbody>\n",
       "</table>\n",
       "</div>"
      ],
      "text/plain": [
       "              name  homewk1  homewk2  midterm  partic  exam\n",
       "0      Amber Mccoy       67       77       88      77    85\n",
       "1  Francis Tedesco       48       50       42      68    74\n",
       "2    Jeffrey Doyle       77       94       74      60    94\n",
       "3    Bertha Rivera       63       76       83      82    92\n",
       "4  Ronald Anderson       55       60       48      71    76"
      ]
     },
     "execution_count": 78,
     "metadata": {},
     "output_type": "execute_result"
    }
   ],
   "source": [
    "df_test.head()"
   ]
  },
  {
   "cell_type": "code",
   "execution_count": 79,
   "metadata": {},
   "outputs": [],
   "source": [
    "df_test[\"pass\"] = df_test[\"exam\"] > 60"
   ]
  },
  {
   "cell_type": "code",
   "execution_count": 80,
   "metadata": {},
   "outputs": [
    {
     "data": {
      "text/html": [
       "<div>\n",
       "<style scoped>\n",
       "    .dataframe tbody tr th:only-of-type {\n",
       "        vertical-align: middle;\n",
       "    }\n",
       "\n",
       "    .dataframe tbody tr th {\n",
       "        vertical-align: top;\n",
       "    }\n",
       "\n",
       "    .dataframe thead th {\n",
       "        text-align: right;\n",
       "    }\n",
       "</style>\n",
       "<table border=\"1\" class=\"dataframe\">\n",
       "  <thead>\n",
       "    <tr style=\"text-align: right;\">\n",
       "      <th></th>\n",
       "      <th>name</th>\n",
       "      <th>homewk1</th>\n",
       "      <th>homewk2</th>\n",
       "      <th>midterm</th>\n",
       "      <th>partic</th>\n",
       "      <th>exam</th>\n",
       "      <th>pass</th>\n",
       "    </tr>\n",
       "  </thead>\n",
       "  <tbody>\n",
       "    <tr>\n",
       "      <th>0</th>\n",
       "      <td>Amber Mccoy</td>\n",
       "      <td>67</td>\n",
       "      <td>77</td>\n",
       "      <td>88</td>\n",
       "      <td>77</td>\n",
       "      <td>85</td>\n",
       "      <td>True</td>\n",
       "    </tr>\n",
       "    <tr>\n",
       "      <th>1</th>\n",
       "      <td>Francis Tedesco</td>\n",
       "      <td>48</td>\n",
       "      <td>50</td>\n",
       "      <td>42</td>\n",
       "      <td>68</td>\n",
       "      <td>74</td>\n",
       "      <td>True</td>\n",
       "    </tr>\n",
       "    <tr>\n",
       "      <th>2</th>\n",
       "      <td>Jeffrey Doyle</td>\n",
       "      <td>77</td>\n",
       "      <td>94</td>\n",
       "      <td>74</td>\n",
       "      <td>60</td>\n",
       "      <td>94</td>\n",
       "      <td>True</td>\n",
       "    </tr>\n",
       "    <tr>\n",
       "      <th>3</th>\n",
       "      <td>Bertha Rivera</td>\n",
       "      <td>63</td>\n",
       "      <td>76</td>\n",
       "      <td>83</td>\n",
       "      <td>82</td>\n",
       "      <td>92</td>\n",
       "      <td>True</td>\n",
       "    </tr>\n",
       "    <tr>\n",
       "      <th>4</th>\n",
       "      <td>Ronald Anderson</td>\n",
       "      <td>55</td>\n",
       "      <td>60</td>\n",
       "      <td>48</td>\n",
       "      <td>71</td>\n",
       "      <td>76</td>\n",
       "      <td>True</td>\n",
       "    </tr>\n",
       "  </tbody>\n",
       "</table>\n",
       "</div>"
      ],
      "text/plain": [
       "              name  homewk1  homewk2  midterm  partic  exam  pass\n",
       "0      Amber Mccoy       67       77       88      77    85  True\n",
       "1  Francis Tedesco       48       50       42      68    74  True\n",
       "2    Jeffrey Doyle       77       94       74      60    94  True\n",
       "3    Bertha Rivera       63       76       83      82    92  True\n",
       "4  Ronald Anderson       55       60       48      71    76  True"
      ]
     },
     "execution_count": 80,
     "metadata": {},
     "output_type": "execute_result"
    }
   ],
   "source": [
    "df_test.head()"
   ]
  },
  {
   "cell_type": "code",
   "execution_count": 81,
   "metadata": {},
   "outputs": [
    {
     "data": {
      "text/html": [
       "<div>\n",
       "<style scoped>\n",
       "    .dataframe tbody tr th:only-of-type {\n",
       "        vertical-align: middle;\n",
       "    }\n",
       "\n",
       "    .dataframe tbody tr th {\n",
       "        vertical-align: top;\n",
       "    }\n",
       "\n",
       "    .dataframe thead th {\n",
       "        text-align: right;\n",
       "    }\n",
       "</style>\n",
       "<table border=\"1\" class=\"dataframe\">\n",
       "  <thead>\n",
       "    <tr style=\"text-align: right;\">\n",
       "      <th></th>\n",
       "      <th>name</th>\n",
       "      <th>homewk1</th>\n",
       "      <th>homewk2</th>\n",
       "      <th>midterm</th>\n",
       "      <th>partic</th>\n",
       "      <th>exam</th>\n",
       "      <th>pass</th>\n",
       "    </tr>\n",
       "  </thead>\n",
       "  <tbody>\n",
       "    <tr>\n",
       "      <th>0</th>\n",
       "      <td>Genevieve Gallegos</td>\n",
       "      <td>95</td>\n",
       "      <td>100</td>\n",
       "      <td>100</td>\n",
       "      <td>100</td>\n",
       "      <td>100</td>\n",
       "      <td>True</td>\n",
       "    </tr>\n",
       "    <tr>\n",
       "      <th>1</th>\n",
       "      <td>Masako Holley</td>\n",
       "      <td>40</td>\n",
       "      <td>55</td>\n",
       "      <td>48</td>\n",
       "      <td>78</td>\n",
       "      <td>62</td>\n",
       "      <td>True</td>\n",
       "    </tr>\n",
       "    <tr>\n",
       "      <th>2</th>\n",
       "      <td>Pearle Goodman</td>\n",
       "      <td>62</td>\n",
       "      <td>80</td>\n",
       "      <td>80</td>\n",
       "      <td>81</td>\n",
       "      <td>85</td>\n",
       "      <td>True</td>\n",
       "    </tr>\n",
       "    <tr>\n",
       "      <th>3</th>\n",
       "      <td>Douglas Schmidt</td>\n",
       "      <td>66</td>\n",
       "      <td>84</td>\n",
       "      <td>74</td>\n",
       "      <td>83</td>\n",
       "      <td>82</td>\n",
       "      <td>True</td>\n",
       "    </tr>\n",
       "    <tr>\n",
       "      <th>4</th>\n",
       "      <td>Russell Mills</td>\n",
       "      <td>8</td>\n",
       "      <td>22</td>\n",
       "      <td>27</td>\n",
       "      <td>72</td>\n",
       "      <td>40</td>\n",
       "      <td>False</td>\n",
       "    </tr>\n",
       "  </tbody>\n",
       "</table>\n",
       "</div>"
      ],
      "text/plain": [
       "                 name  homewk1  homewk2  midterm  partic  exam   pass\n",
       "0  Genevieve Gallegos       95      100      100     100   100   True\n",
       "1       Masako Holley       40       55       48      78    62   True\n",
       "2      Pearle Goodman       62       80       80      81    85   True\n",
       "3     Douglas Schmidt       66       84       74      83    82   True\n",
       "4       Russell Mills        8       22       27      72    40  False"
      ]
     },
     "execution_count": 81,
     "metadata": {},
     "output_type": "execute_result"
    }
   ],
   "source": [
    "df.head()"
   ]
  },
  {
   "cell_type": "code",
   "execution_count": 83,
   "metadata": {},
   "outputs": [
    {
     "data": {
      "text/plain": [
       "0.88"
      ]
     },
     "execution_count": 83,
     "metadata": {},
     "output_type": "execute_result"
    }
   ],
   "source": [
    "# evaluate on testing data\n",
    "\n",
    "predictions = predict(df_test[\"homewk1\"], best_cutoff)\n",
    "acc = (predictions == df_test[\"pass\"]).mean()\n",
    "acc"
   ]
  },
  {
   "cell_type": "markdown",
   "metadata": {},
   "source": [
    "## Generalization: difference between training and testing"
   ]
  },
  {
   "cell_type": "markdown",
   "metadata": {},
   "source": [
    "### Testing accuracy is not as good as training accuracy. Can we do better?"
   ]
  },
  {
   "cell_type": "markdown",
   "metadata": {},
   "source": [
    "#### Strategy 1: try a simpler model family"
   ]
  },
  {
   "cell_type": "code",
   "execution_count": 85,
   "metadata": {},
   "outputs": [
    {
     "data": {
      "text/plain": [
       "[0, 10, 20, 30, 40, 50, 60, 70, 80, 90]"
      ]
     },
     "execution_count": 85,
     "metadata": {},
     "output_type": "execute_result"
    }
   ],
   "source": [
    "list(range(0,100,10))"
   ]
  },
  {
   "cell_type": "code",
   "execution_count": 86,
   "metadata": {},
   "outputs": [
    {
     "name": "stdout",
     "output_type": "stream",
     "text": [
      "Best training accuracy: 0.94\n",
      "Learned cutoff value: 40\n"
     ]
    }
   ],
   "source": [
    "# lets only have multiples of 10 as cutoffs\n",
    "\n",
    "best_acc = 0\n",
    "\n",
    "for cutoff in range(0, 100, 10):\n",
    "    predictions = predict(df[\"homewk1\"], cutoff)\n",
    "    acc = (predictions == df[\"pass\"]).mean()\n",
    "    if acc > best_acc:\n",
    "        best_acc = acc\n",
    "        best_cutoff = cutoff\n",
    "\n",
    "print(\"Best training accuracy:\", best_acc)\n",
    "print(\"Learned cutoff value:\", best_cutoff)"
   ]
  },
  {
   "cell_type": "code",
   "execution_count": 87,
   "metadata": {},
   "outputs": [
    {
     "name": "stdout",
     "output_type": "stream",
     "text": [
      "Testing accuracy: 0.91\n"
     ]
    }
   ],
   "source": [
    "# evaluate on testing data\n",
    "\n",
    "predictions = predict(df_test[\"homewk1\"], best_cutoff)\n",
    "acc = (predictions == df_test[\"pass\"]).mean()\n",
    "print(\"Testing accuracy:\", acc)"
   ]
  },
  {
   "cell_type": "code",
   "execution_count": 88,
   "metadata": {},
   "outputs": [
    {
     "name": "stdout",
     "output_type": "stream",
     "text": [
      "[0, 30, 60, 90]\n",
      "Best training accuracy: 0.9\n",
      "Learned cutoff value: 30\n"
     ]
    }
   ],
   "source": [
    "# What if we try multiples of 30?\n",
    "print(list(range(0, 100, 30)))\n",
    "\n",
    "best_acc = 0\n",
    "\n",
    "for cutoff in range(0, 100, 30):\n",
    "    predictions = predict(df[\"homewk1\"], cutoff)\n",
    "    acc = (predictions == df[\"pass\"]).mean()\n",
    "    if acc > best_acc:\n",
    "        best_acc = acc\n",
    "        best_cutoff = cutoff\n",
    "\n",
    "print(\"Best training accuracy:\", best_acc)\n",
    "print(\"Learned cutoff value:\", best_cutoff)"
   ]
  },
  {
   "cell_type": "code",
   "execution_count": 89,
   "metadata": {},
   "outputs": [
    {
     "name": "stdout",
     "output_type": "stream",
     "text": [
      "Testing accuracy: 0.86\n"
     ]
    }
   ],
   "source": [
    "# evaluate on testing data\n",
    "\n",
    "predictions = predict(df_test[\"homewk1\"], best_cutoff)\n",
    "acc = (predictions == df_test[\"pass\"]).mean()\n",
    "print(\"Testing accuracy:\", acc)"
   ]
  },
  {
   "cell_type": "markdown",
   "metadata": {},
   "source": [
    "#### Strategy 2: get more data"
   ]
  },
  {
   "cell_type": "code",
   "execution_count": 90,
   "metadata": {},
   "outputs": [],
   "source": [
    "df_more = pd.read_csv(\"https://raw.githubusercontent.com/jiaqima/is327-resources/main/data/class_grades_more.csv\")"
   ]
  },
  {
   "cell_type": "code",
   "execution_count": 91,
   "metadata": {},
   "outputs": [
    {
     "data": {
      "text/html": [
       "<div>\n",
       "<style scoped>\n",
       "    .dataframe tbody tr th:only-of-type {\n",
       "        vertical-align: middle;\n",
       "    }\n",
       "\n",
       "    .dataframe tbody tr th {\n",
       "        vertical-align: top;\n",
       "    }\n",
       "\n",
       "    .dataframe thead th {\n",
       "        text-align: right;\n",
       "    }\n",
       "</style>\n",
       "<table border=\"1\" class=\"dataframe\">\n",
       "  <thead>\n",
       "    <tr style=\"text-align: right;\">\n",
       "      <th></th>\n",
       "      <th>name</th>\n",
       "      <th>homewk1</th>\n",
       "      <th>homewk2</th>\n",
       "      <th>midterm</th>\n",
       "      <th>partic</th>\n",
       "      <th>exam</th>\n",
       "    </tr>\n",
       "  </thead>\n",
       "  <tbody>\n",
       "    <tr>\n",
       "      <th>0</th>\n",
       "      <td>Savannah Goh</td>\n",
       "      <td>70</td>\n",
       "      <td>77</td>\n",
       "      <td>81</td>\n",
       "      <td>76</td>\n",
       "      <td>93</td>\n",
       "    </tr>\n",
       "    <tr>\n",
       "      <th>1</th>\n",
       "      <td>Tara Luna</td>\n",
       "      <td>73</td>\n",
       "      <td>80</td>\n",
       "      <td>70</td>\n",
       "      <td>64</td>\n",
       "      <td>96</td>\n",
       "    </tr>\n",
       "    <tr>\n",
       "      <th>2</th>\n",
       "      <td>Helen Howes</td>\n",
       "      <td>36</td>\n",
       "      <td>43</td>\n",
       "      <td>40</td>\n",
       "      <td>79</td>\n",
       "      <td>46</td>\n",
       "    </tr>\n",
       "    <tr>\n",
       "      <th>3</th>\n",
       "      <td>Margarita Chandler</td>\n",
       "      <td>63</td>\n",
       "      <td>76</td>\n",
       "      <td>74</td>\n",
       "      <td>76</td>\n",
       "      <td>84</td>\n",
       "    </tr>\n",
       "    <tr>\n",
       "      <th>4</th>\n",
       "      <td>Justin Carter</td>\n",
       "      <td>67</td>\n",
       "      <td>64</td>\n",
       "      <td>97</td>\n",
       "      <td>83</td>\n",
       "      <td>84</td>\n",
       "    </tr>\n",
       "  </tbody>\n",
       "</table>\n",
       "</div>"
      ],
      "text/plain": [
       "                 name  homewk1  homewk2  midterm  partic  exam\n",
       "0        Savannah Goh       70       77       81      76    93\n",
       "1           Tara Luna       73       80       70      64    96\n",
       "2         Helen Howes       36       43       40      79    46\n",
       "3  Margarita Chandler       63       76       74      76    84\n",
       "4       Justin Carter       67       64       97      83    84"
      ]
     },
     "execution_count": 91,
     "metadata": {},
     "output_type": "execute_result"
    }
   ],
   "source": [
    "df_more.head()"
   ]
  },
  {
   "cell_type": "code",
   "execution_count": 94,
   "metadata": {},
   "outputs": [],
   "source": [
    "df_more[\"pass\"] = df_more[\"exam\"] > 60"
   ]
  },
  {
   "cell_type": "code",
   "execution_count": 95,
   "metadata": {},
   "outputs": [],
   "source": [
    "df_more = pd.concat([df, df_more])"
   ]
  },
  {
   "cell_type": "code",
   "execution_count": 96,
   "metadata": {},
   "outputs": [
    {
     "data": {
      "text/plain": [
       "(100, 50)"
      ]
     },
     "execution_count": 96,
     "metadata": {},
     "output_type": "execute_result"
    }
   ],
   "source": [
    "len(df_more), len(df)"
   ]
  },
  {
   "cell_type": "code",
   "execution_count": 102,
   "metadata": {},
   "outputs": [
    {
     "name": "stdout",
     "output_type": "stream",
     "text": [
      "Best training accuracy: 0.94\n",
      "Learned cutoff value: 40\n"
     ]
    }
   ],
   "source": [
    "# calculate the two strategies\n",
    "\n",
    "best_acc = 0\n",
    "\n",
    "for cutoff in range(0, 100, 10):\n",
    "    predictions = predict(df_more[\"homewk1\"], cutoff)\n",
    "    acc = (predictions == df_more[\"pass\"]).mean()\n",
    "    if acc > best_acc:\n",
    "        best_acc = acc\n",
    "        best_cutoff = cutoff\n",
    "\n",
    "print(\"Best training accuracy:\", best_acc)\n",
    "print(\"Learned cutoff value:\", best_cutoff)"
   ]
  },
  {
   "cell_type": "code",
   "execution_count": 103,
   "metadata": {},
   "outputs": [
    {
     "name": "stdout",
     "output_type": "stream",
     "text": [
      "Testing accuracy: 0.91\n"
     ]
    }
   ],
   "source": [
    "# evaluate on testing data\n",
    "\n",
    "predictions = predict(df_test[\"homewk1\"], best_cutoff)\n",
    "acc = (predictions == df_test[\"pass\"]).mean()\n",
    "print(\"Testing accuracy:\", acc)"
   ]
  },
  {
   "cell_type": "code",
   "execution_count": null,
   "metadata": {},
   "outputs": [],
   "source": []
  }
 ],
 "metadata": {
  "interpreter": {
   "hash": "aee8b7b246df8f9039afb4144a1f6fd8d2ca17a180786b69acc140d282b71a49"
  },
  "kernelspec": {
   "display_name": "Python 3 (ipykernel)",
   "language": "python",
   "name": "python3"
  },
  "language_info": {
   "codemirror_mode": {
    "name": "ipython",
    "version": 3
   },
   "file_extension": ".py",
   "mimetype": "text/x-python",
   "name": "python",
   "nbconvert_exporter": "python",
   "pygments_lexer": "ipython3",
   "version": "3.11.4"
  }
 },
 "nbformat": 4,
 "nbformat_minor": 2
}
