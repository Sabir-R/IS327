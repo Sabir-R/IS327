{
 "cells": [
  {
   "cell_type": "code",
   "execution_count": 1,
   "id": "41505063",
   "metadata": {},
   "outputs": [
    {
     "data": {
      "text/html": [
       "<div>\n",
       "<style scoped>\n",
       "    .dataframe tbody tr th:only-of-type {\n",
       "        vertical-align: middle;\n",
       "    }\n",
       "\n",
       "    .dataframe tbody tr th {\n",
       "        vertical-align: top;\n",
       "    }\n",
       "\n",
       "    .dataframe thead th {\n",
       "        text-align: right;\n",
       "    }\n",
       "</style>\n",
       "<table border=\"1\" class=\"dataframe\">\n",
       "  <thead>\n",
       "    <tr style=\"text-align: right;\">\n",
       "      <th></th>\n",
       "      <th>quiz1</th>\n",
       "      <th>quiz2</th>\n",
       "      <th>quiz3</th>\n",
       "      <th>quiz4</th>\n",
       "      <th>quiz5</th>\n",
       "      <th>quiz6</th>\n",
       "      <th>quiz7</th>\n",
       "      <th>quiz8</th>\n",
       "      <th>quiz9</th>\n",
       "      <th>quiz10</th>\n",
       "      <th>passed_final</th>\n",
       "      <th>frpl</th>\n",
       "    </tr>\n",
       "  </thead>\n",
       "  <tbody>\n",
       "    <tr>\n",
       "      <th>0</th>\n",
       "      <td>65.006812</td>\n",
       "      <td>84.410831</td>\n",
       "      <td>45.160440</td>\n",
       "      <td>70.889405</td>\n",
       "      <td>54.310410</td>\n",
       "      <td>63.434932</td>\n",
       "      <td>60.601137</td>\n",
       "      <td>45.117798</td>\n",
       "      <td>95.797734</td>\n",
       "      <td>93.570121</td>\n",
       "      <td>1</td>\n",
       "      <td>0</td>\n",
       "    </tr>\n",
       "    <tr>\n",
       "      <th>1</th>\n",
       "      <td>30.730824</td>\n",
       "      <td>64.917864</td>\n",
       "      <td>14.581339</td>\n",
       "      <td>57.132101</td>\n",
       "      <td>53.962630</td>\n",
       "      <td>21.741871</td>\n",
       "      <td>84.847961</td>\n",
       "      <td>64.160859</td>\n",
       "      <td>86.419329</td>\n",
       "      <td>74.628074</td>\n",
       "      <td>0</td>\n",
       "      <td>1</td>\n",
       "    </tr>\n",
       "    <tr>\n",
       "      <th>2</th>\n",
       "      <td>35.885607</td>\n",
       "      <td>75.564349</td>\n",
       "      <td>62.434004</td>\n",
       "      <td>56.603925</td>\n",
       "      <td>63.137982</td>\n",
       "      <td>56.910331</td>\n",
       "      <td>89.608642</td>\n",
       "      <td>71.231343</td>\n",
       "      <td>88.324471</td>\n",
       "      <td>92.695640</td>\n",
       "      <td>0</td>\n",
       "      <td>1</td>\n",
       "    </tr>\n",
       "    <tr>\n",
       "      <th>3</th>\n",
       "      <td>59.414426</td>\n",
       "      <td>91.062155</td>\n",
       "      <td>46.457298</td>\n",
       "      <td>54.037249</td>\n",
       "      <td>56.861984</td>\n",
       "      <td>41.587869</td>\n",
       "      <td>77.980740</td>\n",
       "      <td>52.233073</td>\n",
       "      <td>84.232572</td>\n",
       "      <td>90.006458</td>\n",
       "      <td>1</td>\n",
       "      <td>0</td>\n",
       "    </tr>\n",
       "    <tr>\n",
       "      <th>4</th>\n",
       "      <td>54.767233</td>\n",
       "      <td>86.944637</td>\n",
       "      <td>31.068615</td>\n",
       "      <td>60.965026</td>\n",
       "      <td>6.832854</td>\n",
       "      <td>46.313645</td>\n",
       "      <td>76.056575</td>\n",
       "      <td>40.544819</td>\n",
       "      <td>89.014045</td>\n",
       "      <td>88.661454</td>\n",
       "      <td>0</td>\n",
       "      <td>0</td>\n",
       "    </tr>\n",
       "    <tr>\n",
       "      <th>...</th>\n",
       "      <td>...</td>\n",
       "      <td>...</td>\n",
       "      <td>...</td>\n",
       "      <td>...</td>\n",
       "      <td>...</td>\n",
       "      <td>...</td>\n",
       "      <td>...</td>\n",
       "      <td>...</td>\n",
       "      <td>...</td>\n",
       "      <td>...</td>\n",
       "      <td>...</td>\n",
       "      <td>...</td>\n",
       "    </tr>\n",
       "    <tr>\n",
       "      <th>395</th>\n",
       "      <td>38.858685</td>\n",
       "      <td>85.199900</td>\n",
       "      <td>90.734316</td>\n",
       "      <td>37.451876</td>\n",
       "      <td>24.785567</td>\n",
       "      <td>55.901637</td>\n",
       "      <td>80.822082</td>\n",
       "      <td>70.993635</td>\n",
       "      <td>78.794029</td>\n",
       "      <td>77.143443</td>\n",
       "      <td>1</td>\n",
       "      <td>1</td>\n",
       "    </tr>\n",
       "    <tr>\n",
       "      <th>396</th>\n",
       "      <td>31.218415</td>\n",
       "      <td>79.372650</td>\n",
       "      <td>49.181140</td>\n",
       "      <td>52.887378</td>\n",
       "      <td>47.580652</td>\n",
       "      <td>58.234047</td>\n",
       "      <td>86.362499</td>\n",
       "      <td>69.481944</td>\n",
       "      <td>84.092804</td>\n",
       "      <td>88.170802</td>\n",
       "      <td>0</td>\n",
       "      <td>0</td>\n",
       "    </tr>\n",
       "    <tr>\n",
       "      <th>397</th>\n",
       "      <td>41.546260</td>\n",
       "      <td>91.159578</td>\n",
       "      <td>53.578852</td>\n",
       "      <td>57.828196</td>\n",
       "      <td>11.955848</td>\n",
       "      <td>53.583460</td>\n",
       "      <td>0.000000</td>\n",
       "      <td>66.325711</td>\n",
       "      <td>75.683433</td>\n",
       "      <td>80.104594</td>\n",
       "      <td>1</td>\n",
       "      <td>1</td>\n",
       "    </tr>\n",
       "    <tr>\n",
       "      <th>398</th>\n",
       "      <td>100.000000</td>\n",
       "      <td>100.000000</td>\n",
       "      <td>52.719078</td>\n",
       "      <td>13.704376</td>\n",
       "      <td>51.123489</td>\n",
       "      <td>41.120479</td>\n",
       "      <td>98.853494</td>\n",
       "      <td>68.902541</td>\n",
       "      <td>82.814987</td>\n",
       "      <td>100.000000</td>\n",
       "      <td>1</td>\n",
       "      <td>0</td>\n",
       "    </tr>\n",
       "    <tr>\n",
       "      <th>399</th>\n",
       "      <td>61.779517</td>\n",
       "      <td>83.805873</td>\n",
       "      <td>68.703272</td>\n",
       "      <td>30.256937</td>\n",
       "      <td>39.696539</td>\n",
       "      <td>52.461496</td>\n",
       "      <td>88.507602</td>\n",
       "      <td>48.203584</td>\n",
       "      <td>90.153823</td>\n",
       "      <td>80.056676</td>\n",
       "      <td>0</td>\n",
       "      <td>0</td>\n",
       "    </tr>\n",
       "  </tbody>\n",
       "</table>\n",
       "<p>400 rows × 12 columns</p>\n",
       "</div>"
      ],
      "text/plain": [
       "          quiz1       quiz2      quiz3      quiz4      quiz5      quiz6  \\\n",
       "0     65.006812   84.410831  45.160440  70.889405  54.310410  63.434932   \n",
       "1     30.730824   64.917864  14.581339  57.132101  53.962630  21.741871   \n",
       "2     35.885607   75.564349  62.434004  56.603925  63.137982  56.910331   \n",
       "3     59.414426   91.062155  46.457298  54.037249  56.861984  41.587869   \n",
       "4     54.767233   86.944637  31.068615  60.965026   6.832854  46.313645   \n",
       "..          ...         ...        ...        ...        ...        ...   \n",
       "395   38.858685   85.199900  90.734316  37.451876  24.785567  55.901637   \n",
       "396   31.218415   79.372650  49.181140  52.887378  47.580652  58.234047   \n",
       "397   41.546260   91.159578  53.578852  57.828196  11.955848  53.583460   \n",
       "398  100.000000  100.000000  52.719078  13.704376  51.123489  41.120479   \n",
       "399   61.779517   83.805873  68.703272  30.256937  39.696539  52.461496   \n",
       "\n",
       "         quiz7      quiz8      quiz9      quiz10  passed_final  frpl  \n",
       "0    60.601137  45.117798  95.797734   93.570121             1     0  \n",
       "1    84.847961  64.160859  86.419329   74.628074             0     1  \n",
       "2    89.608642  71.231343  88.324471   92.695640             0     1  \n",
       "3    77.980740  52.233073  84.232572   90.006458             1     0  \n",
       "4    76.056575  40.544819  89.014045   88.661454             0     0  \n",
       "..         ...        ...        ...         ...           ...   ...  \n",
       "395  80.822082  70.993635  78.794029   77.143443             1     1  \n",
       "396  86.362499  69.481944  84.092804   88.170802             0     0  \n",
       "397   0.000000  66.325711  75.683433   80.104594             1     1  \n",
       "398  98.853494  68.902541  82.814987  100.000000             1     0  \n",
       "399  88.507602  48.203584  90.153823   80.056676             0     0  \n",
       "\n",
       "[400 rows x 12 columns]"
      ]
     },
     "execution_count": 1,
     "metadata": {},
     "output_type": "execute_result"
    }
   ],
   "source": [
    "import pandas as pd\n",
    "\n",
    "df = pd.read_csv('course_passing_data.csv')\n",
    "df"
   ]
  },
  {
   "cell_type": "markdown",
   "id": "155f24f2",
   "metadata": {},
   "source": [
    "# Preprocessing Data"
   ]
  },
  {
   "cell_type": "code",
   "execution_count": 3,
   "id": "2a3f7b61",
   "metadata": {},
   "outputs": [],
   "source": [
    "# Preprocess data\n",
    "\n",
    "from sklearn import preprocessing\n",
    "\n",
    "features = []\n",
    "for column in df.columns:\n",
    "    if column.startswith('quiz'):\n",
    "        features.append(column)"
   ]
  },
  {
   "cell_type": "code",
   "execution_count": 4,
   "id": "d40f38cc",
   "metadata": {},
   "outputs": [
    {
     "data": {
      "text/plain": [
       "['quiz1',\n",
       " 'quiz2',\n",
       " 'quiz3',\n",
       " 'quiz4',\n",
       " 'quiz5',\n",
       " 'quiz6',\n",
       " 'quiz7',\n",
       " 'quiz8',\n",
       " 'quiz9',\n",
       " 'quiz10']"
      ]
     },
     "execution_count": 4,
     "metadata": {},
     "output_type": "execute_result"
    }
   ],
   "source": [
    "features"
   ]
  },
  {
   "cell_type": "code",
   "execution_count": 6,
   "id": "6ebd3eaf",
   "metadata": {},
   "outputs": [],
   "source": [
    "train_df = df.iloc[:300]\n",
    "test_df = df.iloc[300:]"
   ]
  },
  {
   "cell_type": "code",
   "execution_count": 8,
   "id": "4d7da537",
   "metadata": {},
   "outputs": [],
   "source": [
    "scalar = preprocessing.StandardScaler()\n",
    "scalar.fit(train_df[features])\n",
    "\n",
    "train_X = scalar.transform(train_df[features])\n",
    "test_X = scalar.transform(test_df[features])"
   ]
  },
  {
   "cell_type": "code",
   "execution_count": 10,
   "id": "1cba7818",
   "metadata": {
    "scrolled": true
   },
   "outputs": [
    {
     "data": {
      "text/plain": [
       "(300, 10)"
      ]
     },
     "execution_count": 10,
     "metadata": {},
     "output_type": "execute_result"
    }
   ],
   "source": [
    "train_X.shape"
   ]
  },
  {
   "cell_type": "code",
   "execution_count": 11,
   "id": "14071da1",
   "metadata": {},
   "outputs": [
    {
     "data": {
      "text/plain": [
       "(100, 10)"
      ]
     },
     "execution_count": 11,
     "metadata": {},
     "output_type": "execute_result"
    }
   ],
   "source": [
    "test_X.shape"
   ]
  },
  {
   "cell_type": "markdown",
   "id": "4bd4455f",
   "metadata": {},
   "source": [
    "# Fit a logistic regression"
   ]
  },
  {
   "cell_type": "code",
   "execution_count": 13,
   "id": "07ee0858",
   "metadata": {},
   "outputs": [
    {
     "name": "stdout",
     "output_type": "stream",
     "text": [
      "Test kappa: 0.25233644859813076\n"
     ]
    }
   ],
   "source": [
    "from sklearn import linear_model, metrics\n",
    "\n",
    "model = linear_model.LogisticRegression()\n",
    "model.fit(train_X, train_df['passed_final'])\n",
    "preds = model.predict(test_X)\n",
    "\n",
    "print('Test kappa:', metrics.cohen_kappa_score(test_df['passed_final'], preds))"
   ]
  },
  {
   "cell_type": "code",
   "execution_count": 14,
   "id": "87cf1c47",
   "metadata": {},
   "outputs": [
    {
     "name": "stdout",
     "output_type": "stream",
     "text": [
      "Test accuracy: 0.68\n"
     ]
    }
   ],
   "source": [
    "print('Test accuracy:', metrics.accuracy_score(test_df['passed_final'], preds))"
   ]
  },
  {
   "cell_type": "code",
   "execution_count": 18,
   "id": "3d5245eb",
   "metadata": {},
   "outputs": [],
   "source": [
    "output_df = test_df['frpl']"
   ]
  },
  {
   "cell_type": "code",
   "execution_count": 19,
   "id": "a1c48f2b",
   "metadata": {},
   "outputs": [
    {
     "ename": "KeyError",
     "evalue": "'frpl'",
     "output_type": "error",
     "traceback": [
      "\u001b[0;31m---------------------------------------------------------------------------\u001b[0m",
      "\u001b[0;31mKeyError\u001b[0m                                  Traceback (most recent call last)",
      "Cell \u001b[0;32mIn[19], line 1\u001b[0m\n\u001b[0;32m----> 1\u001b[0m frpl_rows \u001b[38;5;241m=\u001b[39m output_df[output_df[\u001b[38;5;124m'\u001b[39m\u001b[38;5;124mfrpl\u001b[39m\u001b[38;5;124m'\u001b[39m] \u001b[38;5;241m==\u001b[39m \u001b[38;5;241m1\u001b[39m]\n\u001b[1;32m      2\u001b[0m non_frpl_rows \u001b[38;5;241m=\u001b[39m output_df[output_df[\u001b[38;5;124m'\u001b[39m\u001b[38;5;124mfrpl\u001b[39m\u001b[38;5;124m'\u001b[39m] \u001b[38;5;241m==\u001b[39m \u001b[38;5;241m0\u001b[39m]\n",
      "File \u001b[0;32m~/anaconda3/lib/python3.11/site-packages/pandas/core/series.py:981\u001b[0m, in \u001b[0;36mSeries.__getitem__\u001b[0;34m(self, key)\u001b[0m\n\u001b[1;32m    978\u001b[0m     \u001b[38;5;28;01mreturn\u001b[39;00m \u001b[38;5;28mself\u001b[39m\u001b[38;5;241m.\u001b[39m_values[key]\n\u001b[1;32m    980\u001b[0m \u001b[38;5;28;01melif\u001b[39;00m key_is_scalar:\n\u001b[0;32m--> 981\u001b[0m     \u001b[38;5;28;01mreturn\u001b[39;00m \u001b[38;5;28mself\u001b[39m\u001b[38;5;241m.\u001b[39m_get_value(key)\n\u001b[1;32m    983\u001b[0m \u001b[38;5;28;01mif\u001b[39;00m is_hashable(key):\n\u001b[1;32m    984\u001b[0m     \u001b[38;5;66;03m# Otherwise index.get_value will raise InvalidIndexError\u001b[39;00m\n\u001b[1;32m    985\u001b[0m     \u001b[38;5;28;01mtry\u001b[39;00m:\n\u001b[1;32m    986\u001b[0m         \u001b[38;5;66;03m# For labels that don't resolve as scalars like tuples and frozensets\u001b[39;00m\n",
      "File \u001b[0;32m~/anaconda3/lib/python3.11/site-packages/pandas/core/series.py:1089\u001b[0m, in \u001b[0;36mSeries._get_value\u001b[0;34m(self, label, takeable)\u001b[0m\n\u001b[1;32m   1086\u001b[0m     \u001b[38;5;28;01mreturn\u001b[39;00m \u001b[38;5;28mself\u001b[39m\u001b[38;5;241m.\u001b[39m_values[label]\n\u001b[1;32m   1088\u001b[0m \u001b[38;5;66;03m# Similar to Index.get_value, but we do not fall back to positional\u001b[39;00m\n\u001b[0;32m-> 1089\u001b[0m loc \u001b[38;5;241m=\u001b[39m \u001b[38;5;28mself\u001b[39m\u001b[38;5;241m.\u001b[39mindex\u001b[38;5;241m.\u001b[39mget_loc(label)\n\u001b[1;32m   1090\u001b[0m \u001b[38;5;28;01mreturn\u001b[39;00m \u001b[38;5;28mself\u001b[39m\u001b[38;5;241m.\u001b[39mindex\u001b[38;5;241m.\u001b[39m_get_values_for_loc(\u001b[38;5;28mself\u001b[39m, loc, label)\n",
      "File \u001b[0;32m~/anaconda3/lib/python3.11/site-packages/pandas/core/indexes/range.py:395\u001b[0m, in \u001b[0;36mRangeIndex.get_loc\u001b[0;34m(self, key, method, tolerance)\u001b[0m\n\u001b[1;32m    393\u001b[0m             \u001b[38;5;28;01mraise\u001b[39;00m \u001b[38;5;167;01mKeyError\u001b[39;00m(key) \u001b[38;5;28;01mfrom\u001b[39;00m \u001b[38;5;21;01merr\u001b[39;00m\n\u001b[1;32m    394\u001b[0m     \u001b[38;5;28mself\u001b[39m\u001b[38;5;241m.\u001b[39m_check_indexing_error(key)\n\u001b[0;32m--> 395\u001b[0m     \u001b[38;5;28;01mraise\u001b[39;00m \u001b[38;5;167;01mKeyError\u001b[39;00m(key)\n\u001b[1;32m    396\u001b[0m \u001b[38;5;28;01mreturn\u001b[39;00m \u001b[38;5;28msuper\u001b[39m()\u001b[38;5;241m.\u001b[39mget_loc(key, method\u001b[38;5;241m=\u001b[39mmethod, tolerance\u001b[38;5;241m=\u001b[39mtolerance)\n",
      "\u001b[0;31mKeyError\u001b[0m: 'frpl'"
     ]
    }
   ],
   "source": [
    "frpl_rows = output_df[output_df['frpl'] == 1]\n",
    "non_frpl_rows = output_df[output_df['frpl'] == 0]"
   ]
  },
  {
   "cell_type": "code",
   "execution_count": null,
   "id": "bf6cdb19",
   "metadata": {},
   "outputs": [],
   "source": [
    "print(\"FRPL Kappa:\", metrics.cohen_kappa_score(frpl_rows['passed_final'], frpl_rows['prediction']))\n",
    "print(\"Non-FRPL Kappa:\", metrics.cohen_kappa_score(non_frpl_rows['passed_final'], non_frpl_rows['prediction']))"
   ]
  },
  {
   "cell_type": "markdown",
   "id": "463e855f",
   "metadata": {},
   "source": [
    "## Two types of mistakes\n",
    "\n",
    "1) Label is 0 while prediction is 1\n",
    "\n",
    "2) Label is 1 while prediction is 0\n",
    "\n",
    "The costs associated with the two types of mistakes may be very different. E.g., disease diagnosis"
   ]
  },
  {
   "cell_type": "markdown",
   "id": "655afc77",
   "metadata": {},
   "source": [
    "### Confusion Matrix"
   ]
  },
  {
   "cell_type": "code",
   "execution_count": 20,
   "id": "d78ddf2e",
   "metadata": {},
   "outputs": [],
   "source": [
    "# TN FP\n",
    "# FN TP\n",
    "\n",
    "# TP: pred = 1, y = 1\n",
    "# TN: pred = 0, y = 0\n",
    "# FP: pred = 0, y = 0\n",
    "# FN: pred = 0, y = 1"
   ]
  },
  {
   "cell_type": "code",
   "execution_count": null,
   "id": "66959f41",
   "metadata": {},
   "outputs": [],
   "source": [
    "metrics.confusion_matrix(output_df['passed_final'], output_df['prediction'])"
   ]
  },
  {
   "cell_type": "code",
   "execution_count": null,
   "id": "33727011",
   "metadata": {},
   "outputs": [],
   "source": [
    "print(\"FRPL\")\n",
    "print(metrics.confusion_matrix(frpl_rows['passed_final'], frpl_rows['prediction']))"
   ]
  },
  {
   "cell_type": "code",
   "execution_count": null,
   "id": "585c62de",
   "metadata": {},
   "outputs": [],
   "source": [
    "print(\"FRPL\")\n",
    "print(metrics.confusion_matrix(non_frpl_rows['passed_final'], non_frpl_rows['prediction']))"
   ]
  },
  {
   "cell_type": "code",
   "execution_count": null,
   "id": "f122ed31",
   "metadata": {},
   "outputs": [],
   "source": [
    ";"
   ]
  },
  {
   "cell_type": "code",
   "execution_count": null,
   "id": "161664f9",
   "metadata": {},
   "outputs": [],
   "source": []
  },
  {
   "cell_type": "code",
   "execution_count": null,
   "id": "76241706",
   "metadata": {},
   "outputs": [],
   "source": []
  },
  {
   "cell_type": "code",
   "execution_count": null,
   "id": "816ed9c6",
   "metadata": {},
   "outputs": [],
   "source": []
  }
 ],
 "metadata": {
  "kernelspec": {
   "display_name": "Python 3 (ipykernel)",
   "language": "python",
   "name": "python3"
  },
  "language_info": {
   "codemirror_mode": {
    "name": "ipython",
    "version": 3
   },
   "file_extension": ".py",
   "mimetype": "text/x-python",
   "name": "python",
   "nbconvert_exporter": "python",
   "pygments_lexer": "ipython3",
   "version": "3.11.4"
  }
 },
 "nbformat": 4,
 "nbformat_minor": 5
}
