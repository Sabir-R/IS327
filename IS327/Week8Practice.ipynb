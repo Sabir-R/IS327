{
 "cells": [
  {
   "cell_type": "code",
   "execution_count": 3,
   "id": "31e9e737",
   "metadata": {},
   "outputs": [],
   "source": [
    "import numpy as np\n",
    "\n",
    "w1 = 3.904\n",
    "w2 = 3.207\n",
    "b = -3.348\n",
    "\n",
    "d = np.abs((w1 * x1) + (w2 * x2) + b) / np.sqrt((w1**2) + (w2**2))"
   ]
  },
  {
   "cell_type": "code",
   "execution_count": 4,
   "id": "45aca529",
   "metadata": {},
   "outputs": [],
   "source": [
    "# d"
   ]
  },
  {
   "cell_type": "code",
   "execution_count": 5,
   "id": "63ac0516",
   "metadata": {},
   "outputs": [],
   "source": [
    "def solve(x1, x2):\n",
    "    calc = np.abs((w1 * x1) + (w2 * x2) + b) / np.sqrt((w1**2) + (w2**2))\n",
    "    print(calc)"
   ]
  },
  {
   "cell_type": "code",
   "execution_count": 6,
   "id": "3953fb85",
   "metadata": {},
   "outputs": [
    {
     "name": "stdout",
     "output_type": "stream",
     "text": [
      "0.2357267597595034\n"
     ]
    }
   ],
   "source": [
    "solve(0.15, 0.49)"
   ]
  },
  {
   "cell_type": "code",
   "execution_count": 7,
   "id": "eae7a7f8",
   "metadata": {},
   "outputs": [
    {
     "name": "stdout",
     "output_type": "stream",
     "text": [
      "0.19792837750699296\n"
     ]
    }
   ],
   "source": [
    "solve(0.47, 0.16)"
   ]
  },
  {
   "cell_type": "code",
   "execution_count": 8,
   "id": "bc1ebc1c",
   "metadata": {},
   "outputs": [
    {
     "name": "stdout",
     "output_type": "stream",
     "text": [
      "0.1979204603718927\n"
     ]
    }
   ],
   "source": [
    "solve(0.24, 0.44)"
   ]
  },
  {
   "cell_type": "code",
   "execution_count": 9,
   "id": "86b0b1cb",
   "metadata": {},
   "outputs": [
    {
     "name": "stdout",
     "output_type": "stream",
     "text": [
      "0.2015168189911947\n"
     ]
    }
   ],
   "source": [
    "solve(0.49, 0.13)"
   ]
  },
  {
   "cell_type": "code",
   "execution_count": 10,
   "id": "61a55670",
   "metadata": {},
   "outputs": [
    {
     "name": "stdout",
     "output_type": "stream",
     "text": [
      "0.5033259261489578\n"
     ]
    }
   ],
   "source": [
    "solve(0.86, 0.79)"
   ]
  },
  {
   "cell_type": "code",
   "execution_count": 11,
   "id": "0f17cebc",
   "metadata": {},
   "outputs": [
    {
     "name": "stdout",
     "output_type": "stream",
     "text": [
      "0.5336841806909804\n"
     ]
    }
   ],
   "source": [
    "solve(0.85, 0.85)"
   ]
  },
  {
   "cell_type": "code",
   "execution_count": 12,
   "id": "fca53a7a",
   "metadata": {},
   "outputs": [
    {
     "name": "stdout",
     "output_type": "stream",
     "text": [
      "0.19782149618313918\n"
     ]
    }
   ],
   "source": [
    "solve(0.67, 0.54)"
   ]
  },
  {
   "cell_type": "code",
   "execution_count": 13,
   "id": "e86f9f51",
   "metadata": {},
   "outputs": [
    {
     "name": "stdout",
     "output_type": "stream",
     "text": [
      "0.4180564018351703\n"
     ]
    }
   ],
   "source": [
    "solve(0.61, 0.96)"
   ]
  },
  {
   "cell_type": "code",
   "execution_count": 14,
   "id": "4abffc99",
   "metadata": {},
   "outputs": [
    {
     "name": "stdout",
     "output_type": "stream",
     "text": [
      "0.31732471267053614\n"
     ]
    }
   ],
   "source": [
    "solve(0.57, 0.85)"
   ]
  },
  {
   "cell_type": "code",
   "execution_count": 15,
   "id": "1082098a",
   "metadata": {},
   "outputs": [
    {
     "name": "stdout",
     "output_type": "stream",
     "text": [
      "0.2820895029067414\n"
     ]
    }
   ],
   "source": [
    "solve(0.09, 0.49)"
   ]
  },
  {
   "cell_type": "code",
   "execution_count": 16,
   "id": "d04a69d2",
   "metadata": {},
   "outputs": [],
   "source": [
    "w1 = 2.491\n",
    "w2 = 1.632\n",
    "b = -1.901"
   ]
  },
  {
   "cell_type": "code",
   "execution_count": 17,
   "id": "fe112392",
   "metadata": {},
   "outputs": [
    {
     "name": "stdout",
     "output_type": "stream",
     "text": [
      "0.3357786487889333\n"
     ]
    }
   ],
   "source": [
    "solve(.27, .14)"
   ]
  },
  {
   "cell_type": "code",
   "execution_count": 18,
   "id": "76481846",
   "metadata": {},
   "outputs": [
    {
     "name": "stdout",
     "output_type": "stream",
     "text": [
      "0.3356946999292931\n"
     ]
    }
   ],
   "source": [
    "solve(0.66, 0.77)"
   ]
  },
  {
   "cell_type": "code",
   "execution_count": 19,
   "id": "78b2ffbe",
   "metadata": {},
   "outputs": [
    {
     "name": "stdout",
     "output_type": "stream",
     "text": [
      "0.335782006743319\n"
     ]
    }
   ],
   "source": [
    "solve(0.08, 0.43)"
   ]
  },
  {
   "cell_type": "code",
   "execution_count": 20,
   "id": "6d617540",
   "metadata": {},
   "outputs": [
    {
     "name": "stdout",
     "output_type": "stream",
     "text": [
      "0.41394511097713066\n"
     ]
    }
   ],
   "source": [
    "solve(0.17, 0.15)"
   ]
  },
  {
   "cell_type": "code",
   "execution_count": null,
   "id": "97c34b29",
   "metadata": {},
   "outputs": [],
   "source": []
  }
 ],
 "metadata": {
  "kernelspec": {
   "display_name": "Python 3 (ipykernel)",
   "language": "python",
   "name": "python3"
  },
  "language_info": {
   "codemirror_mode": {
    "name": "ipython",
    "version": 3
   },
   "file_extension": ".py",
   "mimetype": "text/x-python",
   "name": "python",
   "nbconvert_exporter": "python",
   "pygments_lexer": "ipython3",
   "version": "3.11.4"
  }
 },
 "nbformat": 4,
 "nbformat_minor": 5
}
