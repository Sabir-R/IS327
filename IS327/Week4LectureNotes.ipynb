{
 "cells": [
  {
   "cell_type": "code",
   "execution_count": 39,
   "id": "4684f1ed",
   "metadata": {},
   "outputs": [],
   "source": [
    "import pandas as pd\n",
    "import numpy as np"
   ]
  },
  {
   "cell_type": "code",
   "execution_count": 40,
   "id": "bcbedf11",
   "metadata": {},
   "outputs": [],
   "source": [
    "train_df = pd.read_csv('Urbanlandcover/training.csv')"
   ]
  },
  {
   "cell_type": "code",
   "execution_count": 41,
   "id": "49cb1f6a",
   "metadata": {},
   "outputs": [
    {
     "data": {
      "text/html": [
       "<div>\n",
       "<style scoped>\n",
       "    .dataframe tbody tr th:only-of-type {\n",
       "        vertical-align: middle;\n",
       "    }\n",
       "\n",
       "    .dataframe tbody tr th {\n",
       "        vertical-align: top;\n",
       "    }\n",
       "\n",
       "    .dataframe thead th {\n",
       "        text-align: right;\n",
       "    }\n",
       "</style>\n",
       "<table border=\"1\" class=\"dataframe\">\n",
       "  <thead>\n",
       "    <tr style=\"text-align: right;\">\n",
       "      <th></th>\n",
       "      <th>class</th>\n",
       "      <th>BrdIndx</th>\n",
       "      <th>Area</th>\n",
       "      <th>Round</th>\n",
       "      <th>Bright</th>\n",
       "      <th>Compact</th>\n",
       "      <th>ShpIndx</th>\n",
       "      <th>Mean_G</th>\n",
       "      <th>Mean_R</th>\n",
       "      <th>Mean_NIR</th>\n",
       "      <th>...</th>\n",
       "      <th>SD_NIR_140</th>\n",
       "      <th>LW_140</th>\n",
       "      <th>GLCM1_140</th>\n",
       "      <th>Rect_140</th>\n",
       "      <th>GLCM2_140</th>\n",
       "      <th>Dens_140</th>\n",
       "      <th>Assym_140</th>\n",
       "      <th>NDVI_140</th>\n",
       "      <th>BordLngth_140</th>\n",
       "      <th>GLCM3_140</th>\n",
       "    </tr>\n",
       "  </thead>\n",
       "  <tbody>\n",
       "    <tr>\n",
       "      <th>0</th>\n",
       "      <td>car</td>\n",
       "      <td>1.27</td>\n",
       "      <td>91</td>\n",
       "      <td>0.97</td>\n",
       "      <td>231.38</td>\n",
       "      <td>1.39</td>\n",
       "      <td>1.47</td>\n",
       "      <td>207.92</td>\n",
       "      <td>241.74</td>\n",
       "      <td>244.48</td>\n",
       "      <td>...</td>\n",
       "      <td>26.18</td>\n",
       "      <td>2.00</td>\n",
       "      <td>0.50</td>\n",
       "      <td>0.85</td>\n",
       "      <td>6.29</td>\n",
       "      <td>1.67</td>\n",
       "      <td>0.70</td>\n",
       "      <td>-0.08</td>\n",
       "      <td>56</td>\n",
       "      <td>3806.36</td>\n",
       "    </tr>\n",
       "    <tr>\n",
       "      <th>1</th>\n",
       "      <td>concrete</td>\n",
       "      <td>2.36</td>\n",
       "      <td>241</td>\n",
       "      <td>1.56</td>\n",
       "      <td>216.15</td>\n",
       "      <td>2.46</td>\n",
       "      <td>2.51</td>\n",
       "      <td>187.85</td>\n",
       "      <td>229.39</td>\n",
       "      <td>231.20</td>\n",
       "      <td>...</td>\n",
       "      <td>22.29</td>\n",
       "      <td>2.25</td>\n",
       "      <td>0.79</td>\n",
       "      <td>0.55</td>\n",
       "      <td>8.42</td>\n",
       "      <td>1.38</td>\n",
       "      <td>0.81</td>\n",
       "      <td>-0.09</td>\n",
       "      <td>1746</td>\n",
       "      <td>1450.14</td>\n",
       "    </tr>\n",
       "    <tr>\n",
       "      <th>2</th>\n",
       "      <td>concrete</td>\n",
       "      <td>2.12</td>\n",
       "      <td>266</td>\n",
       "      <td>1.47</td>\n",
       "      <td>232.18</td>\n",
       "      <td>2.07</td>\n",
       "      <td>2.21</td>\n",
       "      <td>206.54</td>\n",
       "      <td>244.22</td>\n",
       "      <td>245.79</td>\n",
       "      <td>...</td>\n",
       "      <td>15.59</td>\n",
       "      <td>2.19</td>\n",
       "      <td>0.76</td>\n",
       "      <td>0.74</td>\n",
       "      <td>7.24</td>\n",
       "      <td>1.68</td>\n",
       "      <td>0.81</td>\n",
       "      <td>-0.07</td>\n",
       "      <td>566</td>\n",
       "      <td>1094.04</td>\n",
       "    </tr>\n",
       "    <tr>\n",
       "      <th>3</th>\n",
       "      <td>concrete</td>\n",
       "      <td>2.42</td>\n",
       "      <td>399</td>\n",
       "      <td>1.28</td>\n",
       "      <td>230.40</td>\n",
       "      <td>2.49</td>\n",
       "      <td>2.73</td>\n",
       "      <td>204.60</td>\n",
       "      <td>243.27</td>\n",
       "      <td>243.32</td>\n",
       "      <td>...</td>\n",
       "      <td>13.51</td>\n",
       "      <td>3.34</td>\n",
       "      <td>0.82</td>\n",
       "      <td>0.74</td>\n",
       "      <td>7.44</td>\n",
       "      <td>1.36</td>\n",
       "      <td>0.92</td>\n",
       "      <td>-0.09</td>\n",
       "      <td>1178</td>\n",
       "      <td>1125.38</td>\n",
       "    </tr>\n",
       "    <tr>\n",
       "      <th>4</th>\n",
       "      <td>concrete</td>\n",
       "      <td>2.15</td>\n",
       "      <td>944</td>\n",
       "      <td>1.73</td>\n",
       "      <td>193.18</td>\n",
       "      <td>2.28</td>\n",
       "      <td>4.10</td>\n",
       "      <td>165.98</td>\n",
       "      <td>205.55</td>\n",
       "      <td>208.00</td>\n",
       "      <td>...</td>\n",
       "      <td>15.65</td>\n",
       "      <td>50.08</td>\n",
       "      <td>0.85</td>\n",
       "      <td>0.49</td>\n",
       "      <td>8.15</td>\n",
       "      <td>0.23</td>\n",
       "      <td>1.00</td>\n",
       "      <td>-0.08</td>\n",
       "      <td>6232</td>\n",
       "      <td>1146.38</td>\n",
       "    </tr>\n",
       "    <tr>\n",
       "      <th>...</th>\n",
       "      <td>...</td>\n",
       "      <td>...</td>\n",
       "      <td>...</td>\n",
       "      <td>...</td>\n",
       "      <td>...</td>\n",
       "      <td>...</td>\n",
       "      <td>...</td>\n",
       "      <td>...</td>\n",
       "      <td>...</td>\n",
       "      <td>...</td>\n",
       "      <td>...</td>\n",
       "      <td>...</td>\n",
       "      <td>...</td>\n",
       "      <td>...</td>\n",
       "      <td>...</td>\n",
       "      <td>...</td>\n",
       "      <td>...</td>\n",
       "      <td>...</td>\n",
       "      <td>...</td>\n",
       "      <td>...</td>\n",
       "      <td>...</td>\n",
       "    </tr>\n",
       "    <tr>\n",
       "      <th>163</th>\n",
       "      <td>car</td>\n",
       "      <td>1.43</td>\n",
       "      <td>39</td>\n",
       "      <td>1.41</td>\n",
       "      <td>234.03</td>\n",
       "      <td>1.54</td>\n",
       "      <td>1.60</td>\n",
       "      <td>206.36</td>\n",
       "      <td>246.05</td>\n",
       "      <td>249.69</td>\n",
       "      <td>...</td>\n",
       "      <td>55.92</td>\n",
       "      <td>1.73</td>\n",
       "      <td>0.65</td>\n",
       "      <td>0.81</td>\n",
       "      <td>7.05</td>\n",
       "      <td>1.89</td>\n",
       "      <td>0.42</td>\n",
       "      <td>-0.10</td>\n",
       "      <td>66</td>\n",
       "      <td>2469.69</td>\n",
       "    </tr>\n",
       "    <tr>\n",
       "      <th>164</th>\n",
       "      <td>soil</td>\n",
       "      <td>1.92</td>\n",
       "      <td>141</td>\n",
       "      <td>1.24</td>\n",
       "      <td>215.19</td>\n",
       "      <td>2.02</td>\n",
       "      <td>2.02</td>\n",
       "      <td>212.28</td>\n",
       "      <td>216.28</td>\n",
       "      <td>217.00</td>\n",
       "      <td>...</td>\n",
       "      <td>18.91</td>\n",
       "      <td>3.49</td>\n",
       "      <td>0.88</td>\n",
       "      <td>0.67</td>\n",
       "      <td>7.88</td>\n",
       "      <td>1.44</td>\n",
       "      <td>0.82</td>\n",
       "      <td>0.06</td>\n",
       "      <td>990</td>\n",
       "      <td>824.01</td>\n",
       "    </tr>\n",
       "    <tr>\n",
       "      <th>165</th>\n",
       "      <td>grass</td>\n",
       "      <td>2.97</td>\n",
       "      <td>252</td>\n",
       "      <td>1.73</td>\n",
       "      <td>164.13</td>\n",
       "      <td>3.20</td>\n",
       "      <td>3.09</td>\n",
       "      <td>184.15</td>\n",
       "      <td>152.03</td>\n",
       "      <td>156.22</td>\n",
       "      <td>...</td>\n",
       "      <td>33.52</td>\n",
       "      <td>2.02</td>\n",
       "      <td>0.86</td>\n",
       "      <td>0.71</td>\n",
       "      <td>8.50</td>\n",
       "      <td>1.82</td>\n",
       "      <td>0.54</td>\n",
       "      <td>0.06</td>\n",
       "      <td>948</td>\n",
       "      <td>821.84</td>\n",
       "    </tr>\n",
       "    <tr>\n",
       "      <th>166</th>\n",
       "      <td>grass</td>\n",
       "      <td>1.57</td>\n",
       "      <td>216</td>\n",
       "      <td>1.27</td>\n",
       "      <td>164.84</td>\n",
       "      <td>1.71</td>\n",
       "      <td>1.97</td>\n",
       "      <td>192.55</td>\n",
       "      <td>148.34</td>\n",
       "      <td>153.62</td>\n",
       "      <td>...</td>\n",
       "      <td>24.49</td>\n",
       "      <td>1.13</td>\n",
       "      <td>0.76</td>\n",
       "      <td>0.85</td>\n",
       "      <td>7.75</td>\n",
       "      <td>2.11</td>\n",
       "      <td>0.30</td>\n",
       "      <td>0.09</td>\n",
       "      <td>254</td>\n",
       "      <td>1580.72</td>\n",
       "    </tr>\n",
       "    <tr>\n",
       "      <th>167</th>\n",
       "      <td>concrete</td>\n",
       "      <td>2.12</td>\n",
       "      <td>836</td>\n",
       "      <td>0.88</td>\n",
       "      <td>232.84</td>\n",
       "      <td>1.78</td>\n",
       "      <td>2.52</td>\n",
       "      <td>202.39</td>\n",
       "      <td>247.24</td>\n",
       "      <td>248.89</td>\n",
       "      <td>...</td>\n",
       "      <td>7.84</td>\n",
       "      <td>1.52</td>\n",
       "      <td>0.76</td>\n",
       "      <td>0.24</td>\n",
       "      <td>7.16</td>\n",
       "      <td>0.74</td>\n",
       "      <td>0.49</td>\n",
       "      <td>-0.09</td>\n",
       "      <td>3020</td>\n",
       "      <td>1611.55</td>\n",
       "    </tr>\n",
       "  </tbody>\n",
       "</table>\n",
       "<p>168 rows × 148 columns</p>\n",
       "</div>"
      ],
      "text/plain": [
       "         class  BrdIndx  Area  Round  Bright  Compact  ShpIndx  Mean_G  \\\n",
       "0         car      1.27    91   0.97  231.38     1.39     1.47  207.92   \n",
       "1    concrete      2.36   241   1.56  216.15     2.46     2.51  187.85   \n",
       "2    concrete      2.12   266   1.47  232.18     2.07     2.21  206.54   \n",
       "3    concrete      2.42   399   1.28  230.40     2.49     2.73  204.60   \n",
       "4    concrete      2.15   944   1.73  193.18     2.28     4.10  165.98   \n",
       "..         ...      ...   ...    ...     ...      ...      ...     ...   \n",
       "163       car      1.43    39   1.41  234.03     1.54     1.60  206.36   \n",
       "164      soil      1.92   141   1.24  215.19     2.02     2.02  212.28   \n",
       "165     grass      2.97   252   1.73  164.13     3.20     3.09  184.15   \n",
       "166     grass      1.57   216   1.27  164.84     1.71     1.97  192.55   \n",
       "167  concrete      2.12   836   0.88  232.84     1.78     2.52  202.39   \n",
       "\n",
       "     Mean_R  Mean_NIR  ...  SD_NIR_140  LW_140  GLCM1_140  Rect_140  \\\n",
       "0    241.74    244.48  ...       26.18    2.00       0.50      0.85   \n",
       "1    229.39    231.20  ...       22.29    2.25       0.79      0.55   \n",
       "2    244.22    245.79  ...       15.59    2.19       0.76      0.74   \n",
       "3    243.27    243.32  ...       13.51    3.34       0.82      0.74   \n",
       "4    205.55    208.00  ...       15.65   50.08       0.85      0.49   \n",
       "..      ...       ...  ...         ...     ...        ...       ...   \n",
       "163  246.05    249.69  ...       55.92    1.73       0.65      0.81   \n",
       "164  216.28    217.00  ...       18.91    3.49       0.88      0.67   \n",
       "165  152.03    156.22  ...       33.52    2.02       0.86      0.71   \n",
       "166  148.34    153.62  ...       24.49    1.13       0.76      0.85   \n",
       "167  247.24    248.89  ...        7.84    1.52       0.76      0.24   \n",
       "\n",
       "     GLCM2_140  Dens_140  Assym_140  NDVI_140  BordLngth_140  GLCM3_140  \n",
       "0         6.29      1.67       0.70     -0.08             56    3806.36  \n",
       "1         8.42      1.38       0.81     -0.09           1746    1450.14  \n",
       "2         7.24      1.68       0.81     -0.07            566    1094.04  \n",
       "3         7.44      1.36       0.92     -0.09           1178    1125.38  \n",
       "4         8.15      0.23       1.00     -0.08           6232    1146.38  \n",
       "..         ...       ...        ...       ...            ...        ...  \n",
       "163       7.05      1.89       0.42     -0.10             66    2469.69  \n",
       "164       7.88      1.44       0.82      0.06            990     824.01  \n",
       "165       8.50      1.82       0.54      0.06            948     821.84  \n",
       "166       7.75      2.11       0.30      0.09            254    1580.72  \n",
       "167       7.16      0.74       0.49     -0.09           3020    1611.55  \n",
       "\n",
       "[168 rows x 148 columns]"
      ]
     },
     "execution_count": 41,
     "metadata": {},
     "output_type": "execute_result"
    }
   ],
   "source": [
    "train_df"
   ]
  },
  {
   "cell_type": "code",
   "execution_count": 42,
   "id": "bc98f860",
   "metadata": {},
   "outputs": [],
   "source": [
    "test_df = pd.read_csv('Urbanlandcover/testing.csv')"
   ]
  },
  {
   "cell_type": "code",
   "execution_count": 43,
   "id": "e981abd0",
   "metadata": {},
   "outputs": [
    {
     "data": {
      "text/html": [
       "<div>\n",
       "<style scoped>\n",
       "    .dataframe tbody tr th:only-of-type {\n",
       "        vertical-align: middle;\n",
       "    }\n",
       "\n",
       "    .dataframe tbody tr th {\n",
       "        vertical-align: top;\n",
       "    }\n",
       "\n",
       "    .dataframe thead th {\n",
       "        text-align: right;\n",
       "    }\n",
       "</style>\n",
       "<table border=\"1\" class=\"dataframe\">\n",
       "  <thead>\n",
       "    <tr style=\"text-align: right;\">\n",
       "      <th></th>\n",
       "      <th>class</th>\n",
       "      <th>BrdIndx</th>\n",
       "      <th>Area</th>\n",
       "      <th>Round</th>\n",
       "      <th>Bright</th>\n",
       "      <th>Compact</th>\n",
       "      <th>ShpIndx</th>\n",
       "      <th>Mean_G</th>\n",
       "      <th>Mean_R</th>\n",
       "      <th>Mean_NIR</th>\n",
       "      <th>...</th>\n",
       "      <th>SD_NIR_140</th>\n",
       "      <th>LW_140</th>\n",
       "      <th>GLCM1_140</th>\n",
       "      <th>Rect_140</th>\n",
       "      <th>GLCM2_140</th>\n",
       "      <th>Dens_140</th>\n",
       "      <th>Assym_140</th>\n",
       "      <th>NDVI_140</th>\n",
       "      <th>BordLngth_140</th>\n",
       "      <th>GLCM3_140</th>\n",
       "    </tr>\n",
       "  </thead>\n",
       "  <tbody>\n",
       "    <tr>\n",
       "      <th>0</th>\n",
       "      <td>concrete</td>\n",
       "      <td>1.32</td>\n",
       "      <td>131</td>\n",
       "      <td>0.81</td>\n",
       "      <td>222.74</td>\n",
       "      <td>1.66</td>\n",
       "      <td>2.18</td>\n",
       "      <td>192.94</td>\n",
       "      <td>235.11</td>\n",
       "      <td>240.15</td>\n",
       "      <td>...</td>\n",
       "      <td>31.15</td>\n",
       "      <td>5.04</td>\n",
       "      <td>0.80</td>\n",
       "      <td>0.58</td>\n",
       "      <td>8.56</td>\n",
       "      <td>0.82</td>\n",
       "      <td>0.98</td>\n",
       "      <td>-0.10</td>\n",
       "      <td>1512</td>\n",
       "      <td>1287.52</td>\n",
       "    </tr>\n",
       "    <tr>\n",
       "      <th>1</th>\n",
       "      <td>shadow</td>\n",
       "      <td>1.59</td>\n",
       "      <td>864</td>\n",
       "      <td>0.94</td>\n",
       "      <td>47.56</td>\n",
       "      <td>1.41</td>\n",
       "      <td>1.87</td>\n",
       "      <td>36.82</td>\n",
       "      <td>48.78</td>\n",
       "      <td>57.09</td>\n",
       "      <td>...</td>\n",
       "      <td>12.01</td>\n",
       "      <td>3.70</td>\n",
       "      <td>0.52</td>\n",
       "      <td>0.96</td>\n",
       "      <td>7.01</td>\n",
       "      <td>1.69</td>\n",
       "      <td>0.86</td>\n",
       "      <td>-0.14</td>\n",
       "      <td>196</td>\n",
       "      <td>2659.74</td>\n",
       "    </tr>\n",
       "    <tr>\n",
       "      <th>2</th>\n",
       "      <td>shadow</td>\n",
       "      <td>1.41</td>\n",
       "      <td>409</td>\n",
       "      <td>1.00</td>\n",
       "      <td>51.38</td>\n",
       "      <td>1.37</td>\n",
       "      <td>1.53</td>\n",
       "      <td>41.72</td>\n",
       "      <td>51.96</td>\n",
       "      <td>60.48</td>\n",
       "      <td>...</td>\n",
       "      <td>18.75</td>\n",
       "      <td>3.09</td>\n",
       "      <td>0.90</td>\n",
       "      <td>0.63</td>\n",
       "      <td>8.32</td>\n",
       "      <td>1.38</td>\n",
       "      <td>0.84</td>\n",
       "      <td>0.10</td>\n",
       "      <td>1198</td>\n",
       "      <td>720.38</td>\n",
       "    </tr>\n",
       "    <tr>\n",
       "      <th>3</th>\n",
       "      <td>tree</td>\n",
       "      <td>2.58</td>\n",
       "      <td>187</td>\n",
       "      <td>1.91</td>\n",
       "      <td>70.08</td>\n",
       "      <td>3.41</td>\n",
       "      <td>3.11</td>\n",
       "      <td>93.13</td>\n",
       "      <td>55.20</td>\n",
       "      <td>61.92</td>\n",
       "      <td>...</td>\n",
       "      <td>27.67</td>\n",
       "      <td>6.33</td>\n",
       "      <td>0.89</td>\n",
       "      <td>0.70</td>\n",
       "      <td>8.56</td>\n",
       "      <td>1.10</td>\n",
       "      <td>0.96</td>\n",
       "      <td>0.20</td>\n",
       "      <td>524</td>\n",
       "      <td>891.36</td>\n",
       "    </tr>\n",
       "    <tr>\n",
       "      <th>4</th>\n",
       "      <td>asphalt</td>\n",
       "      <td>2.60</td>\n",
       "      <td>116</td>\n",
       "      <td>2.05</td>\n",
       "      <td>89.57</td>\n",
       "      <td>3.06</td>\n",
       "      <td>3.02</td>\n",
       "      <td>73.17</td>\n",
       "      <td>94.89</td>\n",
       "      <td>100.64</td>\n",
       "      <td>...</td>\n",
       "      <td>32.05</td>\n",
       "      <td>1.01</td>\n",
       "      <td>0.83</td>\n",
       "      <td>0.75</td>\n",
       "      <td>8.62</td>\n",
       "      <td>2.08</td>\n",
       "      <td>0.08</td>\n",
       "      <td>-0.10</td>\n",
       "      <td>496</td>\n",
       "      <td>1194.76</td>\n",
       "    </tr>\n",
       "    <tr>\n",
       "      <th>...</th>\n",
       "      <td>...</td>\n",
       "      <td>...</td>\n",
       "      <td>...</td>\n",
       "      <td>...</td>\n",
       "      <td>...</td>\n",
       "      <td>...</td>\n",
       "      <td>...</td>\n",
       "      <td>...</td>\n",
       "      <td>...</td>\n",
       "      <td>...</td>\n",
       "      <td>...</td>\n",
       "      <td>...</td>\n",
       "      <td>...</td>\n",
       "      <td>...</td>\n",
       "      <td>...</td>\n",
       "      <td>...</td>\n",
       "      <td>...</td>\n",
       "      <td>...</td>\n",
       "      <td>...</td>\n",
       "      <td>...</td>\n",
       "      <td>...</td>\n",
       "    </tr>\n",
       "    <tr>\n",
       "      <th>502</th>\n",
       "      <td>building</td>\n",
       "      <td>1.36</td>\n",
       "      <td>3146</td>\n",
       "      <td>0.90</td>\n",
       "      <td>244.97</td>\n",
       "      <td>1.44</td>\n",
       "      <td>1.39</td>\n",
       "      <td>229.86</td>\n",
       "      <td>252.47</td>\n",
       "      <td>252.58</td>\n",
       "      <td>...</td>\n",
       "      <td>7.58</td>\n",
       "      <td>1.51</td>\n",
       "      <td>0.63</td>\n",
       "      <td>0.84</td>\n",
       "      <td>6.85</td>\n",
       "      <td>1.96</td>\n",
       "      <td>0.47</td>\n",
       "      <td>-0.04</td>\n",
       "      <td>784</td>\n",
       "      <td>1911.96</td>\n",
       "    </tr>\n",
       "    <tr>\n",
       "      <th>503</th>\n",
       "      <td>grass</td>\n",
       "      <td>2.51</td>\n",
       "      <td>428</td>\n",
       "      <td>1.55</td>\n",
       "      <td>166.02</td>\n",
       "      <td>2.16</td>\n",
       "      <td>2.61</td>\n",
       "      <td>210.11</td>\n",
       "      <td>135.89</td>\n",
       "      <td>152.04</td>\n",
       "      <td>...</td>\n",
       "      <td>18.91</td>\n",
       "      <td>1.14</td>\n",
       "      <td>0.86</td>\n",
       "      <td>0.67</td>\n",
       "      <td>7.70</td>\n",
       "      <td>1.80</td>\n",
       "      <td>0.50</td>\n",
       "      <td>0.22</td>\n",
       "      <td>1020</td>\n",
       "      <td>801.65</td>\n",
       "    </tr>\n",
       "    <tr>\n",
       "      <th>504</th>\n",
       "      <td>concrete</td>\n",
       "      <td>2.45</td>\n",
       "      <td>659</td>\n",
       "      <td>1.38</td>\n",
       "      <td>219.30</td>\n",
       "      <td>1.68</td>\n",
       "      <td>2.53</td>\n",
       "      <td>189.64</td>\n",
       "      <td>233.14</td>\n",
       "      <td>235.12</td>\n",
       "      <td>...</td>\n",
       "      <td>14.67</td>\n",
       "      <td>2.21</td>\n",
       "      <td>0.74</td>\n",
       "      <td>0.78</td>\n",
       "      <td>7.47</td>\n",
       "      <td>1.70</td>\n",
       "      <td>0.74</td>\n",
       "      <td>-0.09</td>\n",
       "      <td>2596</td>\n",
       "      <td>1243.03</td>\n",
       "    </tr>\n",
       "    <tr>\n",
       "      <th>505</th>\n",
       "      <td>building</td>\n",
       "      <td>1.90</td>\n",
       "      <td>89</td>\n",
       "      <td>1.01</td>\n",
       "      <td>219.88</td>\n",
       "      <td>2.02</td>\n",
       "      <td>2.01</td>\n",
       "      <td>184.82</td>\n",
       "      <td>235.18</td>\n",
       "      <td>239.65</td>\n",
       "      <td>...</td>\n",
       "      <td>37.11</td>\n",
       "      <td>5.26</td>\n",
       "      <td>0.75</td>\n",
       "      <td>0.85</td>\n",
       "      <td>8.47</td>\n",
       "      <td>1.30</td>\n",
       "      <td>0.94</td>\n",
       "      <td>-0.12</td>\n",
       "      <td>726</td>\n",
       "      <td>1470.63</td>\n",
       "    </tr>\n",
       "    <tr>\n",
       "      <th>506</th>\n",
       "      <td>building</td>\n",
       "      <td>2.48</td>\n",
       "      <td>155</td>\n",
       "      <td>1.68</td>\n",
       "      <td>225.15</td>\n",
       "      <td>2.57</td>\n",
       "      <td>2.69</td>\n",
       "      <td>192.61</td>\n",
       "      <td>239.95</td>\n",
       "      <td>242.88</td>\n",
       "      <td>...</td>\n",
       "      <td>10.50</td>\n",
       "      <td>3.92</td>\n",
       "      <td>0.71</td>\n",
       "      <td>0.85</td>\n",
       "      <td>6.74</td>\n",
       "      <td>1.52</td>\n",
       "      <td>0.89</td>\n",
       "      <td>-0.11</td>\n",
       "      <td>296</td>\n",
       "      <td>1991.25</td>\n",
       "    </tr>\n",
       "  </tbody>\n",
       "</table>\n",
       "<p>507 rows × 148 columns</p>\n",
       "</div>"
      ],
      "text/plain": [
       "         class  BrdIndx  Area  Round  Bright  Compact  ShpIndx  Mean_G  \\\n",
       "0    concrete      1.32   131   0.81  222.74     1.66     2.18  192.94   \n",
       "1      shadow      1.59   864   0.94   47.56     1.41     1.87   36.82   \n",
       "2      shadow      1.41   409   1.00   51.38     1.37     1.53   41.72   \n",
       "3        tree      2.58   187   1.91   70.08     3.41     3.11   93.13   \n",
       "4     asphalt      2.60   116   2.05   89.57     3.06     3.02   73.17   \n",
       "..         ...      ...   ...    ...     ...      ...      ...     ...   \n",
       "502  building      1.36  3146   0.90  244.97     1.44     1.39  229.86   \n",
       "503     grass      2.51   428   1.55  166.02     2.16     2.61  210.11   \n",
       "504  concrete      2.45   659   1.38  219.30     1.68     2.53  189.64   \n",
       "505  building      1.90    89   1.01  219.88     2.02     2.01  184.82   \n",
       "506  building      2.48   155   1.68  225.15     2.57     2.69  192.61   \n",
       "\n",
       "     Mean_R  Mean_NIR  ...  SD_NIR_140  LW_140  GLCM1_140  Rect_140  \\\n",
       "0    235.11    240.15  ...       31.15    5.04       0.80      0.58   \n",
       "1     48.78     57.09  ...       12.01    3.70       0.52      0.96   \n",
       "2     51.96     60.48  ...       18.75    3.09       0.90      0.63   \n",
       "3     55.20     61.92  ...       27.67    6.33       0.89      0.70   \n",
       "4     94.89    100.64  ...       32.05    1.01       0.83      0.75   \n",
       "..      ...       ...  ...         ...     ...        ...       ...   \n",
       "502  252.47    252.58  ...        7.58    1.51       0.63      0.84   \n",
       "503  135.89    152.04  ...       18.91    1.14       0.86      0.67   \n",
       "504  233.14    235.12  ...       14.67    2.21       0.74      0.78   \n",
       "505  235.18    239.65  ...       37.11    5.26       0.75      0.85   \n",
       "506  239.95    242.88  ...       10.50    3.92       0.71      0.85   \n",
       "\n",
       "     GLCM2_140  Dens_140  Assym_140  NDVI_140  BordLngth_140  GLCM3_140  \n",
       "0         8.56      0.82       0.98     -0.10           1512    1287.52  \n",
       "1         7.01      1.69       0.86     -0.14            196    2659.74  \n",
       "2         8.32      1.38       0.84      0.10           1198     720.38  \n",
       "3         8.56      1.10       0.96      0.20            524     891.36  \n",
       "4         8.62      2.08       0.08     -0.10            496    1194.76  \n",
       "..         ...       ...        ...       ...            ...        ...  \n",
       "502       6.85      1.96       0.47     -0.04            784    1911.96  \n",
       "503       7.70      1.80       0.50      0.22           1020     801.65  \n",
       "504       7.47      1.70       0.74     -0.09           2596    1243.03  \n",
       "505       8.47      1.30       0.94     -0.12            726    1470.63  \n",
       "506       6.74      1.52       0.89     -0.11            296    1991.25  \n",
       "\n",
       "[507 rows x 148 columns]"
      ]
     },
     "execution_count": 43,
     "metadata": {},
     "output_type": "execute_result"
    }
   ],
   "source": [
    "test_df"
   ]
  },
  {
   "cell_type": "code",
   "execution_count": 44,
   "id": "cf321ffa",
   "metadata": {},
   "outputs": [
    {
     "data": {
      "text/plain": [
       "0.5214255182731353"
      ]
     },
     "execution_count": 44,
     "metadata": {},
     "output_type": "execute_result"
    }
   ],
   "source": [
    "from sklearn import tree, metrics\n",
    "\n",
    "model = tree.DecisionTreeClassifier(min_samples_leaf = 10)\n",
    "features = ['Area', 'Round', 'Bright', 'Compact']\n",
    "\n",
    "#train model using train_df\n",
    "train_X = train_df[features]\n",
    "train_Y = train_df['class']\n",
    "model.fit(train_X, train_Y)\n",
    "\n",
    "#test model using test_df\n",
    "test_X = test_df[features]\n",
    "test_Y = test_df['class']\n",
    "\n",
    "test_pred = model.predict(test_X)\n",
    "\n",
    "kappa = metrics.cohen_kappa_score(test_Y, test_pred)\n",
    "kappa"
   ]
  },
  {
   "cell_type": "code",
   "execution_count": 45,
   "id": "cbe500c0",
   "metadata": {},
   "outputs": [
    {
     "data": {
      "text/plain": [
       "0.3017781116954671"
      ]
     },
     "execution_count": 45,
     "metadata": {},
     "output_type": "execute_result"
    }
   ],
   "source": [
    "# manual split\n",
    "\n",
    "new_train_df = train_df.iloc[:100]\n",
    "val_df = train_df.iloc[100:]\n",
    "\n",
    "train_X = new_train_df[features]\n",
    "train_Y = new_train_df['class']\n",
    "model.fit(train_X, train_Y)\n",
    "\n",
    "#test model using val_df\n",
    "val_X = val_df[features]\n",
    "val_Y = val_df['class']\n",
    "val_pred = model.predict(val_X)\n",
    "kappa = metrics.cohen_kappa_score(val_Y, val_pred)\n",
    "kappa"
   ]
  },
  {
   "cell_type": "markdown",
   "id": "6ae676c0",
   "metadata": {},
   "source": [
    "# K-fold Cross-Validation"
   ]
  },
  {
   "cell_type": "code",
   "execution_count": 46,
   "id": "ff5d2e45",
   "metadata": {},
   "outputs": [
    {
     "name": "stdout",
     "output_type": "stream",
     "text": [
      "Fold 0 kappas = 0.5866388308977035\n",
      "Fold 1 kappas = 0.6799568965517241\n",
      "Fold 2 kappas = 0.5167364016736402\n",
      "Fold 3 kappas = 0.38621444201312904\n"
     ]
    },
    {
     "ename": "KeyError",
     "evalue": "132",
     "output_type": "error",
     "traceback": [
      "\u001b[0;31m---------------------------------------------------------------------------\u001b[0m",
      "\u001b[0;31mKeyError\u001b[0m                                  Traceback (most recent call last)",
      "File \u001b[0;32m~/anaconda3/lib/python3.11/site-packages/pandas/core/indexes/base.py:3802\u001b[0m, in \u001b[0;36mIndex.get_loc\u001b[0;34m(self, key, method, tolerance)\u001b[0m\n\u001b[1;32m   3801\u001b[0m \u001b[38;5;28;01mtry\u001b[39;00m:\n\u001b[0;32m-> 3802\u001b[0m     \u001b[38;5;28;01mreturn\u001b[39;00m \u001b[38;5;28mself\u001b[39m\u001b[38;5;241m.\u001b[39m_engine\u001b[38;5;241m.\u001b[39mget_loc(casted_key)\n\u001b[1;32m   3803\u001b[0m \u001b[38;5;28;01mexcept\u001b[39;00m \u001b[38;5;167;01mKeyError\u001b[39;00m \u001b[38;5;28;01mas\u001b[39;00m err:\n",
      "File \u001b[0;32m~/anaconda3/lib/python3.11/site-packages/pandas/_libs/index.pyx:138\u001b[0m, in \u001b[0;36mpandas._libs.index.IndexEngine.get_loc\u001b[0;34m()\u001b[0m\n",
      "File \u001b[0;32m~/anaconda3/lib/python3.11/site-packages/pandas/_libs/index.pyx:165\u001b[0m, in \u001b[0;36mpandas._libs.index.IndexEngine.get_loc\u001b[0;34m()\u001b[0m\n",
      "File \u001b[0;32mpandas/_libs/hashtable_class_helper.pxi:5745\u001b[0m, in \u001b[0;36mpandas._libs.hashtable.PyObjectHashTable.get_item\u001b[0;34m()\u001b[0m\n",
      "File \u001b[0;32mpandas/_libs/hashtable_class_helper.pxi:5753\u001b[0m, in \u001b[0;36mpandas._libs.hashtable.PyObjectHashTable.get_item\u001b[0;34m()\u001b[0m\n",
      "\u001b[0;31mKeyError\u001b[0m: 132",
      "\nThe above exception was the direct cause of the following exception:\n",
      "\u001b[0;31mKeyError\u001b[0m                                  Traceback (most recent call last)",
      "Cell \u001b[0;32mIn[46], line 11\u001b[0m\n\u001b[1;32m      9\u001b[0m \u001b[38;5;28;01melif\u001b[39;00m fold_num \u001b[38;5;241m==\u001b[39m num_folds \u001b[38;5;241m-\u001b[39m \u001b[38;5;241m1\u001b[39m:\n\u001b[1;32m     10\u001b[0m     other_df \u001b[38;5;241m=\u001b[39m train_df[:fold_num \u001b[38;5;241m*\u001b[39m fold_len]\n\u001b[0;32m---> 11\u001b[0m     fold_df \u001b[38;5;241m=\u001b[39m train_df[fold_num \u001b[38;5;241m*\u001b[39m fold_len]\n\u001b[1;32m     12\u001b[0m \u001b[38;5;28;01melse\u001b[39;00m:\n\u001b[1;32m     13\u001b[0m     other_df \u001b[38;5;241m=\u001b[39m pd\u001b[38;5;241m.\u001b[39mconcat([train_df[:fold_num \u001b[38;5;241m*\u001b[39m fold_len], train_df[(fold_num \u001b[38;5;241m+\u001b[39m \u001b[38;5;241m1\u001b[39m) \u001b[38;5;241m*\u001b[39m fold_len:]])\n",
      "File \u001b[0;32m~/anaconda3/lib/python3.11/site-packages/pandas/core/frame.py:3807\u001b[0m, in \u001b[0;36mDataFrame.__getitem__\u001b[0;34m(self, key)\u001b[0m\n\u001b[1;32m   3805\u001b[0m \u001b[38;5;28;01mif\u001b[39;00m \u001b[38;5;28mself\u001b[39m\u001b[38;5;241m.\u001b[39mcolumns\u001b[38;5;241m.\u001b[39mnlevels \u001b[38;5;241m>\u001b[39m \u001b[38;5;241m1\u001b[39m:\n\u001b[1;32m   3806\u001b[0m     \u001b[38;5;28;01mreturn\u001b[39;00m \u001b[38;5;28mself\u001b[39m\u001b[38;5;241m.\u001b[39m_getitem_multilevel(key)\n\u001b[0;32m-> 3807\u001b[0m indexer \u001b[38;5;241m=\u001b[39m \u001b[38;5;28mself\u001b[39m\u001b[38;5;241m.\u001b[39mcolumns\u001b[38;5;241m.\u001b[39mget_loc(key)\n\u001b[1;32m   3808\u001b[0m \u001b[38;5;28;01mif\u001b[39;00m is_integer(indexer):\n\u001b[1;32m   3809\u001b[0m     indexer \u001b[38;5;241m=\u001b[39m [indexer]\n",
      "File \u001b[0;32m~/anaconda3/lib/python3.11/site-packages/pandas/core/indexes/base.py:3804\u001b[0m, in \u001b[0;36mIndex.get_loc\u001b[0;34m(self, key, method, tolerance)\u001b[0m\n\u001b[1;32m   3802\u001b[0m     \u001b[38;5;28;01mreturn\u001b[39;00m \u001b[38;5;28mself\u001b[39m\u001b[38;5;241m.\u001b[39m_engine\u001b[38;5;241m.\u001b[39mget_loc(casted_key)\n\u001b[1;32m   3803\u001b[0m \u001b[38;5;28;01mexcept\u001b[39;00m \u001b[38;5;167;01mKeyError\u001b[39;00m \u001b[38;5;28;01mas\u001b[39;00m err:\n\u001b[0;32m-> 3804\u001b[0m     \u001b[38;5;28;01mraise\u001b[39;00m \u001b[38;5;167;01mKeyError\u001b[39;00m(key) \u001b[38;5;28;01mfrom\u001b[39;00m \u001b[38;5;21;01merr\u001b[39;00m\n\u001b[1;32m   3805\u001b[0m \u001b[38;5;28;01mexcept\u001b[39;00m \u001b[38;5;167;01mTypeError\u001b[39;00m:\n\u001b[1;32m   3806\u001b[0m     \u001b[38;5;66;03m# If we have a listlike key, _check_indexing_error will raise\u001b[39;00m\n\u001b[1;32m   3807\u001b[0m     \u001b[38;5;66;03m#  InvalidIndexError. Otherwise we fall through and re-raise\u001b[39;00m\n\u001b[1;32m   3808\u001b[0m     \u001b[38;5;66;03m#  the TypeError.\u001b[39;00m\n\u001b[1;32m   3809\u001b[0m     \u001b[38;5;28mself\u001b[39m\u001b[38;5;241m.\u001b[39m_check_indexing_error(key)\n",
      "\u001b[0;31mKeyError\u001b[0m: 132"
     ]
    }
   ],
   "source": [
    "num_folds = 5\n",
    "fold_len = int(len(train_df) / num_folds)\n",
    "kappas = []\n",
    "\n",
    "for fold_num in range(num_folds):\n",
    "    fold_df = train_df[fold_num * fold_len:(fold_num + 1) * fold_len]\n",
    "    if fold_num == 0:\n",
    "        other_df = train_df[fold_len:]\n",
    "    elif fold_num == num_folds - 1:\n",
    "        other_df = train_df[:fold_num * fold_len]\n",
    "        fold_df = train_df[fold_num * fold_len]\n",
    "    else:\n",
    "        other_df = pd.concat([train_df[:fold_num * fold_len], train_df[(fold_num + 1) * fold_len:]])\n",
    "    \n",
    "    model = tree.DecisionTreeClassifier(min_samples_leaf = 10)\n",
    "    \n",
    "    train_X = other_df[features]\n",
    "    train_Y = other_df['class']\n",
    "    model.fit(train_X, train_Y)\n",
    "    \n",
    "    val_X = fold_df[features]\n",
    "    val_Y = fold_df['class']\n",
    "    val_pred = model.predict(val_X)\n",
    "    kappa = metrics.cohen_kappa_score(val_Y, val_pred)\n",
    "    kappas.append(kappa)\n",
    "    \n",
    "    print('Fold', fold_num, 'kappas =', kappa)\n",
    "    \n",
    "print('average kappa =', sum(kappas)/ len(kappas))"
   ]
  },
  {
   "cell_type": "markdown",
   "id": "82c66d44",
   "metadata": {},
   "source": [
    "#### Try on KNN"
   ]
  },
  {
   "cell_type": "code",
   "execution_count": null,
   "id": "b46b8e91",
   "metadata": {},
   "outputs": [],
   "source": [
    "from sklearn import neighbors"
   ]
  },
  {
   "cell_type": "code",
   "execution_count": null,
   "id": "3fc4bb63",
   "metadata": {},
   "outputs": [],
   "source": [
    "num_folds = 5\n",
    "fold_len = int(len(train_df) / num_folds)\n",
    "kappas = []\n",
    "\n",
    "for fold_num in range(num_folds):\n",
    "    fold_df = train_df[fold_num * fold_len:(fold_num + 1) * fold_len]\n",
    "    if fold_num == 0:\n",
    "        other_df = train_df[fold_len:]\n",
    "    elif fold_num == num_folds - 1:\n",
    "        other_df = train_df[:fold_num * fold_len]\n",
    "        fold_df = train_df[fold_num * fold_len]\n",
    "    else:\n",
    "        other_df = pd.concat([train_df[:fold_num * fold_len], train_df[(fold_num + 1) * fold_len:]])\n",
    "    \n",
    "    model = neighbors.KNeighborsClassifier(5)\n",
    "    \n",
    "    train_X = other_df[features]\n",
    "    train_Y = other_df['class']\n",
    "    model.fit(train_X, train_Y)\n",
    "    \n",
    "    val_X = fold_df[features]\n",
    "    val_Y = fold_df['class']\n",
    "    val_pred = model.predict(val_X)\n",
    "    kappa = metrics.cohen_kappa_score(val_Y, val_pred)\n",
    "    kappas.append(kappa)\n",
    "    \n",
    "    print('Fold', fold_num, 'kappas =', kappa)\n",
    "    \n",
    "print('average kappa =', sum(kappas)/ len(kappas))"
   ]
  },
  {
   "cell_type": "markdown",
   "id": "7c9dd61c",
   "metadata": {},
   "source": [
    "# Select hyperparameters with cross validation"
   ]
  },
  {
   "cell_type": "code",
   "execution_count": 58,
   "id": "58313914",
   "metadata": {},
   "outputs": [
    {
     "name": "stdout",
     "output_type": "stream",
     "text": [
      "Fold 0 kappas = 0.5866388308977035\n",
      "Fold 1 kappas = 0.6799568965517241\n",
      "Fold 2 kappas = 0.5167364016736402\n",
      "Fold 3 kappas = 0.38621444201312904\n"
     ]
    },
    {
     "ename": "KeyError",
     "evalue": "132",
     "output_type": "error",
     "traceback": [
      "\u001b[0;31m---------------------------------------------------------------------------\u001b[0m",
      "\u001b[0;31mKeyError\u001b[0m                                  Traceback (most recent call last)",
      "File \u001b[0;32m~/anaconda3/lib/python3.11/site-packages/pandas/core/indexes/base.py:3802\u001b[0m, in \u001b[0;36mIndex.get_loc\u001b[0;34m(self, key, method, tolerance)\u001b[0m\n\u001b[1;32m   3801\u001b[0m \u001b[38;5;28;01mtry\u001b[39;00m:\n\u001b[0;32m-> 3802\u001b[0m     \u001b[38;5;28;01mreturn\u001b[39;00m \u001b[38;5;28mself\u001b[39m\u001b[38;5;241m.\u001b[39m_engine\u001b[38;5;241m.\u001b[39mget_loc(casted_key)\n\u001b[1;32m   3803\u001b[0m \u001b[38;5;28;01mexcept\u001b[39;00m \u001b[38;5;167;01mKeyError\u001b[39;00m \u001b[38;5;28;01mas\u001b[39;00m err:\n",
      "File \u001b[0;32m~/anaconda3/lib/python3.11/site-packages/pandas/_libs/index.pyx:138\u001b[0m, in \u001b[0;36mpandas._libs.index.IndexEngine.get_loc\u001b[0;34m()\u001b[0m\n",
      "File \u001b[0;32m~/anaconda3/lib/python3.11/site-packages/pandas/_libs/index.pyx:165\u001b[0m, in \u001b[0;36mpandas._libs.index.IndexEngine.get_loc\u001b[0;34m()\u001b[0m\n",
      "File \u001b[0;32mpandas/_libs/hashtable_class_helper.pxi:5745\u001b[0m, in \u001b[0;36mpandas._libs.hashtable.PyObjectHashTable.get_item\u001b[0;34m()\u001b[0m\n",
      "File \u001b[0;32mpandas/_libs/hashtable_class_helper.pxi:5753\u001b[0m, in \u001b[0;36mpandas._libs.hashtable.PyObjectHashTable.get_item\u001b[0;34m()\u001b[0m\n",
      "\u001b[0;31mKeyError\u001b[0m: 132",
      "\nThe above exception was the direct cause of the following exception:\n",
      "\u001b[0;31mKeyError\u001b[0m                                  Traceback (most recent call last)",
      "Cell \u001b[0;32mIn[58], line 14\u001b[0m\n\u001b[1;32m     12\u001b[0m \u001b[38;5;28;01melif\u001b[39;00m fold_num \u001b[38;5;241m==\u001b[39m num_folds \u001b[38;5;241m-\u001b[39m \u001b[38;5;241m1\u001b[39m:\n\u001b[1;32m     13\u001b[0m     other_df \u001b[38;5;241m=\u001b[39m train_df[:fold_num \u001b[38;5;241m*\u001b[39m fold_len]\n\u001b[0;32m---> 14\u001b[0m     fold_df \u001b[38;5;241m=\u001b[39m train_df[fold_num \u001b[38;5;241m*\u001b[39m fold_len]\n\u001b[1;32m     15\u001b[0m \u001b[38;5;28;01melse\u001b[39;00m:\n\u001b[1;32m     16\u001b[0m     other_df \u001b[38;5;241m=\u001b[39m pd\u001b[38;5;241m.\u001b[39mconcat([train_df[:fold_num \u001b[38;5;241m*\u001b[39m fold_len], train_df[(fold_num \u001b[38;5;241m+\u001b[39m \u001b[38;5;241m1\u001b[39m) \u001b[38;5;241m*\u001b[39m fold_len:]])\n",
      "File \u001b[0;32m~/anaconda3/lib/python3.11/site-packages/pandas/core/frame.py:3807\u001b[0m, in \u001b[0;36mDataFrame.__getitem__\u001b[0;34m(self, key)\u001b[0m\n\u001b[1;32m   3805\u001b[0m \u001b[38;5;28;01mif\u001b[39;00m \u001b[38;5;28mself\u001b[39m\u001b[38;5;241m.\u001b[39mcolumns\u001b[38;5;241m.\u001b[39mnlevels \u001b[38;5;241m>\u001b[39m \u001b[38;5;241m1\u001b[39m:\n\u001b[1;32m   3806\u001b[0m     \u001b[38;5;28;01mreturn\u001b[39;00m \u001b[38;5;28mself\u001b[39m\u001b[38;5;241m.\u001b[39m_getitem_multilevel(key)\n\u001b[0;32m-> 3807\u001b[0m indexer \u001b[38;5;241m=\u001b[39m \u001b[38;5;28mself\u001b[39m\u001b[38;5;241m.\u001b[39mcolumns\u001b[38;5;241m.\u001b[39mget_loc(key)\n\u001b[1;32m   3808\u001b[0m \u001b[38;5;28;01mif\u001b[39;00m is_integer(indexer):\n\u001b[1;32m   3809\u001b[0m     indexer \u001b[38;5;241m=\u001b[39m [indexer]\n",
      "File \u001b[0;32m~/anaconda3/lib/python3.11/site-packages/pandas/core/indexes/base.py:3804\u001b[0m, in \u001b[0;36mIndex.get_loc\u001b[0;34m(self, key, method, tolerance)\u001b[0m\n\u001b[1;32m   3802\u001b[0m     \u001b[38;5;28;01mreturn\u001b[39;00m \u001b[38;5;28mself\u001b[39m\u001b[38;5;241m.\u001b[39m_engine\u001b[38;5;241m.\u001b[39mget_loc(casted_key)\n\u001b[1;32m   3803\u001b[0m \u001b[38;5;28;01mexcept\u001b[39;00m \u001b[38;5;167;01mKeyError\u001b[39;00m \u001b[38;5;28;01mas\u001b[39;00m err:\n\u001b[0;32m-> 3804\u001b[0m     \u001b[38;5;28;01mraise\u001b[39;00m \u001b[38;5;167;01mKeyError\u001b[39;00m(key) \u001b[38;5;28;01mfrom\u001b[39;00m \u001b[38;5;21;01merr\u001b[39;00m\n\u001b[1;32m   3805\u001b[0m \u001b[38;5;28;01mexcept\u001b[39;00m \u001b[38;5;167;01mTypeError\u001b[39;00m:\n\u001b[1;32m   3806\u001b[0m     \u001b[38;5;66;03m# If we have a listlike key, _check_indexing_error will raise\u001b[39;00m\n\u001b[1;32m   3807\u001b[0m     \u001b[38;5;66;03m#  InvalidIndexError. Otherwise we fall through and re-raise\u001b[39;00m\n\u001b[1;32m   3808\u001b[0m     \u001b[38;5;66;03m#  the TypeError.\u001b[39;00m\n\u001b[1;32m   3809\u001b[0m     \u001b[38;5;28mself\u001b[39m\u001b[38;5;241m.\u001b[39m_check_indexing_error(key)\n",
      "\u001b[0;31mKeyError\u001b[0m: 132"
     ]
    }
   ],
   "source": [
    "num_folds = 5\n",
    "fold_len = int(len(train_df) / num_folds)\n",
    "\n",
    "params = [1, 2, 4, 10, 20, 40]\n",
    "\n",
    "kappas = []\n",
    "\n",
    "for fold_num in range(num_folds):\n",
    "    fold_df = train_df[fold_num * fold_len:(fold_num + 1) * fold_len]\n",
    "    if fold_num == 0:\n",
    "        other_df = train_df[fold_len:]\n",
    "    elif fold_num == num_folds - 1:\n",
    "        other_df = train_df[:fold_num * fold_len]\n",
    "        fold_df = train_df[fold_num * fold_len]\n",
    "    else:\n",
    "        other_df = pd.concat([train_df[:fold_num * fold_len], train_df[(fold_num + 1) * fold_len:]])\n",
    "    \n",
    "    model = tree.DecisionTreeClassifier(min_samples_leaf = 10)\n",
    "    \n",
    "    train_X = other_df[features]\n",
    "    train_Y = other_df['class']\n",
    "    model.fit(train_X, train_Y)\n",
    "    \n",
    "    val_X = fold_df[features]\n",
    "    val_Y = fold_df['class']\n",
    "    val_pred = model.predict(val_X)\n",
    "    kappa = metrics.cohen_kappa_score(val_Y, val_pred)\n",
    "    kappas.append(kappa)\n",
    "    \n",
    "    print('Fold', fold_num, 'kappas =', kappa)\n",
    "    \n",
    "print('average kappa =', sum(kappas)/ len(kappas))"
   ]
  },
  {
   "cell_type": "code",
   "execution_count": 50,
   "id": "c11af835",
   "metadata": {},
   "outputs": [
    {
     "name": "stdout",
     "output_type": "stream",
     "text": [
      "param 1 test kappa 0.5214255182731353\n",
      "param 2 test kappa 0.5214255182731353\n",
      "param 5 test kappa 0.5214255182731353\n",
      "param 10 test kappa 0.5214255182731353\n",
      "param 20 test kappa 0.5214255182731353\n",
      "param 40 test kappa 0.5214255182731353\n"
     ]
    }
   ],
   "source": [
    "# test\n",
    "\n",
    "train_df = pd.read_csv('Urbanlandcover/training.csv')\n",
    "test_df = pd.read_csv('Urbanlandcover/testing.csv')\n",
    "\n",
    "params = [1, 2, 5, 10, 20, 40]\n",
    "\n",
    "for param in params:\n",
    "    model = tree.DecisionTreeClassifier(min_samples_leaf = 10)\n",
    "\n",
    "    train_X = train_df[features]\n",
    "    train_Y = train_df['class']\n",
    "    model.fit(train_X, train_Y)\n",
    "\n",
    "    test_X = test_df[features]\n",
    "    test_Y = test_df['class']\n",
    "    test_pred = model.predict(test_X)\n",
    "    kappa = metrics.cohen_kappa_score(test_Y, test_pred)\n",
    "    print('param', param, 'test kappa', kappa)"
   ]
  },
  {
   "cell_type": "markdown",
   "id": "bd18696b",
   "metadata": {},
   "source": [
    "# Sklearn for cross validation"
   ]
  },
  {
   "cell_type": "markdown",
   "id": "af3ed734",
   "metadata": {},
   "source": []
  },
  {
   "cell_type": "code",
   "execution_count": 53,
   "id": "0786d462",
   "metadata": {},
   "outputs": [],
   "source": [
    "from sklearn import model_selection"
   ]
  },
  {
   "cell_type": "code",
   "execution_count": 54,
   "id": "bf863af2",
   "metadata": {},
   "outputs": [],
   "source": [
    "xval = model_selection.KFold(5)"
   ]
  },
  {
   "cell_type": "code",
   "execution_count": 59,
   "id": "08a046dc",
   "metadata": {},
   "outputs": [],
   "source": [
    "results = list(xval.split(train_df))"
   ]
  },
  {
   "cell_type": "code",
   "execution_count": 60,
   "id": "e1847c94",
   "metadata": {},
   "outputs": [
    {
     "data": {
      "text/plain": [
       "5"
      ]
     },
     "execution_count": 60,
     "metadata": {},
     "output_type": "execute_result"
    }
   ],
   "source": [
    "len(results)"
   ]
  },
  {
   "cell_type": "code",
   "execution_count": 62,
   "id": "8370a094",
   "metadata": {},
   "outputs": [],
   "source": [
    "train_i, val_i = results[0]"
   ]
  },
  {
   "cell_type": "code",
   "execution_count": 63,
   "id": "5cb2e27d",
   "metadata": {},
   "outputs": [],
   "source": [
    "other_df = train_df.iloc[train_i]\n",
    "val_df = train_df.iloc[val_i]"
   ]
  },
  {
   "cell_type": "code",
   "execution_count": 64,
   "id": "2557e2f2",
   "metadata": {},
   "outputs": [],
   "source": [
    "xval = model_selection.KFold(5, shuffle = True)"
   ]
  },
  {
   "cell_type": "code",
   "execution_count": 65,
   "id": "7ed3cbd4",
   "metadata": {},
   "outputs": [],
   "source": [
    "results = list(xval.split(train_df))"
   ]
  },
  {
   "cell_type": "code",
   "execution_count": 66,
   "id": "d7bef0ff",
   "metadata": {},
   "outputs": [],
   "source": [
    "train_i, val_i = results[0]"
   ]
  },
  {
   "cell_type": "code",
   "execution_count": 67,
   "id": "fa0df602",
   "metadata": {},
   "outputs": [
    {
     "data": {
      "text/plain": [
       "array([  1,   2,   6,  12,  13,  15,  23,  25,  37,  41,  47,  57,  67,\n",
       "        70,  75,  78,  81,  90, 104, 109, 111, 117, 119, 128, 130, 132,\n",
       "       133, 134, 138, 149, 150, 156, 162, 164])"
      ]
     },
     "execution_count": 67,
     "metadata": {},
     "output_type": "execute_result"
    }
   ],
   "source": [
    "val_i"
   ]
  },
  {
   "cell_type": "code",
   "execution_count": null,
   "id": "c7980aae",
   "metadata": {},
   "outputs": [],
   "source": []
  },
  {
   "cell_type": "code",
   "execution_count": null,
   "id": "7a05d3a6",
   "metadata": {},
   "outputs": [],
   "source": []
  },
  {
   "cell_type": "code",
   "execution_count": 74,
   "id": "e6054c56",
   "metadata": {},
   "outputs": [
    {
     "name": "stdout",
     "output_type": "stream",
     "text": [
      "param 1 average kappa = 0.4199881820189063\n",
      "param 2 average kappa = 0.46673259986707893\n",
      "param 5 average kappa = 0.48199297748735886\n",
      "param 10 average kappa = 0.5214255182731353\n",
      "param 20 average kappa = 0.3364054051614417\n",
      "param 40 average kappa = 0.287001493344083\n"
     ]
    }
   ],
   "source": [
    "num_folds = 5\n",
    "xval = model_selection.KFold(num_folds , shuffle = True)\n",
    "splits = list(xval.split(train_df))\n",
    "\n",
    "params = [1, 2, 5, 10, 20, 40]\n",
    "\n",
    "cv_performance = []\n",
    "for param in params:\n",
    "    kappas = []\n",
    "    for fold_num in range(num_folds):\n",
    "        train_i, val_i = splits[0]\n",
    "        other_df = train_df.iloc[train_i]\n",
    "        fold_df = train_df.iloc[val_i]\n",
    "        \n",
    "        model = tree.DecisionTreeClassifier(min_samples_leaf = param)\n",
    "\n",
    "        train_X = train_df[features]\n",
    "        train_Y = train_df['class']\n",
    "        model.fit(train_X, train_Y)\n",
    "\n",
    "        test_X = test_df[features]\n",
    "        test_Y = test_df['class']\n",
    "        test_pred = model.predict(test_X)\n",
    "        kappa = metrics.cohen_kappa_score(test_Y, test_pred)\n",
    "        kappas.append(kappa)\n",
    "        \n",
    "    cv_performance.append(sum(kappas) / len(kappas))\n",
    "    print('param', param, 'average kappa =', sum(kappas) / len(kappas))"
   ]
  },
  {
   "cell_type": "markdown",
   "id": "e872bd2a",
   "metadata": {},
   "source": [
    "### cross_validate"
   ]
  },
  {
   "cell_type": "code",
   "execution_count": 75,
   "id": "f54c2c6b",
   "metadata": {},
   "outputs": [],
   "source": [
    "model = tree.DecisionTreeClassifier(min_samples_leaf = 10)\n",
    "\n",
    "X = train_df[features]\n",
    "Y = train_df['class']\n",
    "\n",
    "xval = model_selection.KFold(num_folds , shuffle = True)\n",
    "\n",
    "results = model_selection.cross_validate(model, X, Y, cv=xval)"
   ]
  },
  {
   "cell_type": "code",
   "execution_count": 76,
   "id": "62c4ebfe",
   "metadata": {},
   "outputs": [
    {
     "data": {
      "text/plain": [
       "{'fit_time': array([0.0052371 , 0.00153089, 0.00135875, 0.00363398, 0.00128484]),\n",
       " 'score_time': array([0.00144386, 0.00085711, 0.00145221, 0.00093889, 0.00075126]),\n",
       " 'test_score': array([0.64705882, 0.55882353, 0.52941176, 0.6969697 , 0.6969697 ])}"
      ]
     },
     "execution_count": 76,
     "metadata": {},
     "output_type": "execute_result"
    }
   ],
   "source": [
    "results"
   ]
  },
  {
   "cell_type": "code",
   "execution_count": 77,
   "id": "4dcf4405",
   "metadata": {},
   "outputs": [],
   "source": [
    "scorer = metrics.make_scorer(metrics.cohen_kappa_score)"
   ]
  },
  {
   "cell_type": "code",
   "execution_count": 78,
   "id": "72475010",
   "metadata": {},
   "outputs": [],
   "source": [
    "results = model_selection.cross_validate(model, X, Y, cv=xval, scoring = scorer)"
   ]
  },
  {
   "cell_type": "code",
   "execution_count": 79,
   "id": "0ce00764",
   "metadata": {},
   "outputs": [
    {
     "data": {
      "text/plain": [
       "{'fit_time': array([0.00502515, 0.00096536, 0.00087118, 0.00385809, 0.00125122]),\n",
       " 'score_time': array([0.00144887, 0.00076675, 0.001683  , 0.00160503, 0.00072384]),\n",
       " 'test_score': array([0.53831232, 0.61836735, 0.66067864, 0.75735294, 0.54603175])}"
      ]
     },
     "execution_count": 79,
     "metadata": {},
     "output_type": "execute_result"
    }
   ],
   "source": [
    "results"
   ]
  },
  {
   "cell_type": "code",
   "execution_count": 81,
   "id": "493c2f0d",
   "metadata": {},
   "outputs": [],
   "source": [
    "results = model_selection.cross_validate(model, X, Y, cv=xval, scoring = scorer, return_train_score = True)"
   ]
  },
  {
   "cell_type": "code",
   "execution_count": 82,
   "id": "16783b56",
   "metadata": {},
   "outputs": [
    {
     "data": {
      "text/plain": [
       "{'fit_time': array([0.02005982, 0.00107694, 0.00094604, 0.00112295, 0.00102901]),\n",
       " 'score_time': array([0.00240302, 0.00083518, 0.00083089, 0.00088596, 0.00089097]),\n",
       " 'test_score': array([0.49      , 0.59563925, 0.66699314, 0.40382572, 0.58403361]),\n",
       " 'train_score': array([0.74569838, 0.7034461 , 0.73780218, 0.70557079, 0.69101819])}"
      ]
     },
     "execution_count": 82,
     "metadata": {},
     "output_type": "execute_result"
    }
   ],
   "source": [
    "results"
   ]
  },
  {
   "cell_type": "code",
   "execution_count": null,
   "id": "4a8d2bd5",
   "metadata": {},
   "outputs": [],
   "source": []
  },
  {
   "cell_type": "code",
   "execution_count": null,
   "id": "cd332d6f",
   "metadata": {},
   "outputs": [],
   "source": []
  },
  {
   "cell_type": "code",
   "execution_count": 91,
   "id": "ddff1291",
   "metadata": {},
   "outputs": [
    {
     "name": "stdout",
     "output_type": "stream",
     "text": [
      "param 1 average kappa = 0.5390176236097598\n",
      "param 2 average kappa = 0.5477250250759748\n",
      "param 5 average kappa = 0.5814885681077125\n",
      "param 10 average kappa = 0.6217350783766369\n",
      "param 20 average kappa = 0.4013785847969671\n",
      "param 40 average kappa = 0.142410044254695\n"
     ]
    }
   ],
   "source": [
    "num_folds = 5\n",
    "\n",
    "X = train_df[features]\n",
    "Y = train_df['class']\n",
    "\n",
    "xval = model_selection.KFold(num_folds , shuffle = True)\n",
    "scorer = metrics.make_scorer(metrics.cohen_kappa_score)\n",
    "\n",
    "params = [1, 2, 5, 10, 20, 40]\n",
    "\n",
    "cv_performance = []\n",
    "for param in params:\n",
    "    model = tree.DecisionTreeClassifier(min_samples_leaf = param)\n",
    "    \n",
    "    \n",
    "    results = model_selection.cross_validate(model, X, Y, cv=xval, scoring = scorer, return_train_score = True)\n",
    "    kappas = results['test_score']\n",
    "    \n",
    "\n",
    "    cv_performance.append(sum(kappas) / len(kappas))\n",
    "    print('param', param, 'average kappa =', sum(kappas) / len(kappas))"
   ]
  },
  {
   "cell_type": "markdown",
   "id": "6037f884",
   "metadata": {},
   "source": [
    "### GridSearchCV"
   ]
  },
  {
   "cell_type": "code",
   "execution_count": 92,
   "id": "2aa75654",
   "metadata": {},
   "outputs": [],
   "source": [
    "model = tree.DecisionTreeClassifier()\n",
    "\n",
    "param_dict = {'min_samples_leaf': [1, 2, 5, 10, 20, 40]}\n",
    "\n",
    "num_folds = 5\n",
    "xval = model_selection.KFold(num_folds , shuffle = True)\n",
    "scorer = metrics.make_scorer(metrics.cohen_kappa_score)\n",
    "\n",
    "grid = model_selection.GridSearchCV(model, param_dict, cv=xval, scoring = scorer)"
   ]
  },
  {
   "cell_type": "code",
   "execution_count": 93,
   "id": "c88551eb",
   "metadata": {},
   "outputs": [
    {
     "data": {
      "text/html": [
       "<style>#sk-container-id-1 {color: black;}#sk-container-id-1 pre{padding: 0;}#sk-container-id-1 div.sk-toggleable {background-color: white;}#sk-container-id-1 label.sk-toggleable__label {cursor: pointer;display: block;width: 100%;margin-bottom: 0;padding: 0.3em;box-sizing: border-box;text-align: center;}#sk-container-id-1 label.sk-toggleable__label-arrow:before {content: \"▸\";float: left;margin-right: 0.25em;color: #696969;}#sk-container-id-1 label.sk-toggleable__label-arrow:hover:before {color: black;}#sk-container-id-1 div.sk-estimator:hover label.sk-toggleable__label-arrow:before {color: black;}#sk-container-id-1 div.sk-toggleable__content {max-height: 0;max-width: 0;overflow: hidden;text-align: left;background-color: #f0f8ff;}#sk-container-id-1 div.sk-toggleable__content pre {margin: 0.2em;color: black;border-radius: 0.25em;background-color: #f0f8ff;}#sk-container-id-1 input.sk-toggleable__control:checked~div.sk-toggleable__content {max-height: 200px;max-width: 100%;overflow: auto;}#sk-container-id-1 input.sk-toggleable__control:checked~label.sk-toggleable__label-arrow:before {content: \"▾\";}#sk-container-id-1 div.sk-estimator input.sk-toggleable__control:checked~label.sk-toggleable__label {background-color: #d4ebff;}#sk-container-id-1 div.sk-label input.sk-toggleable__control:checked~label.sk-toggleable__label {background-color: #d4ebff;}#sk-container-id-1 input.sk-hidden--visually {border: 0;clip: rect(1px 1px 1px 1px);clip: rect(1px, 1px, 1px, 1px);height: 1px;margin: -1px;overflow: hidden;padding: 0;position: absolute;width: 1px;}#sk-container-id-1 div.sk-estimator {font-family: monospace;background-color: #f0f8ff;border: 1px dotted black;border-radius: 0.25em;box-sizing: border-box;margin-bottom: 0.5em;}#sk-container-id-1 div.sk-estimator:hover {background-color: #d4ebff;}#sk-container-id-1 div.sk-parallel-item::after {content: \"\";width: 100%;border-bottom: 1px solid gray;flex-grow: 1;}#sk-container-id-1 div.sk-label:hover label.sk-toggleable__label {background-color: #d4ebff;}#sk-container-id-1 div.sk-serial::before {content: \"\";position: absolute;border-left: 1px solid gray;box-sizing: border-box;top: 0;bottom: 0;left: 50%;z-index: 0;}#sk-container-id-1 div.sk-serial {display: flex;flex-direction: column;align-items: center;background-color: white;padding-right: 0.2em;padding-left: 0.2em;position: relative;}#sk-container-id-1 div.sk-item {position: relative;z-index: 1;}#sk-container-id-1 div.sk-parallel {display: flex;align-items: stretch;justify-content: center;background-color: white;position: relative;}#sk-container-id-1 div.sk-item::before, #sk-container-id-1 div.sk-parallel-item::before {content: \"\";position: absolute;border-left: 1px solid gray;box-sizing: border-box;top: 0;bottom: 0;left: 50%;z-index: -1;}#sk-container-id-1 div.sk-parallel-item {display: flex;flex-direction: column;z-index: 1;position: relative;background-color: white;}#sk-container-id-1 div.sk-parallel-item:first-child::after {align-self: flex-end;width: 50%;}#sk-container-id-1 div.sk-parallel-item:last-child::after {align-self: flex-start;width: 50%;}#sk-container-id-1 div.sk-parallel-item:only-child::after {width: 0;}#sk-container-id-1 div.sk-dashed-wrapped {border: 1px dashed gray;margin: 0 0.4em 0.5em 0.4em;box-sizing: border-box;padding-bottom: 0.4em;background-color: white;}#sk-container-id-1 div.sk-label label {font-family: monospace;font-weight: bold;display: inline-block;line-height: 1.2em;}#sk-container-id-1 div.sk-label-container {text-align: center;}#sk-container-id-1 div.sk-container {/* jupyter's `normalize.less` sets `[hidden] { display: none; }` but bootstrap.min.css set `[hidden] { display: none !important; }` so we also need the `!important` here to be able to override the default hidden behavior on the sphinx rendered scikit-learn.org. See: https://github.com/scikit-learn/scikit-learn/issues/21755 */display: inline-block !important;position: relative;}#sk-container-id-1 div.sk-text-repr-fallback {display: none;}</style><div id=\"sk-container-id-1\" class=\"sk-top-container\"><div class=\"sk-text-repr-fallback\"><pre>GridSearchCV(cv=KFold(n_splits=5, random_state=None, shuffle=True),\n",
       "             estimator=DecisionTreeClassifier(),\n",
       "             param_grid={&#x27;min_samples_leaf&#x27;: [1, 2, 5, 10, 20, 40]},\n",
       "             scoring=make_scorer(cohen_kappa_score))</pre><b>In a Jupyter environment, please rerun this cell to show the HTML representation or trust the notebook. <br />On GitHub, the HTML representation is unable to render, please try loading this page with nbviewer.org.</b></div><div class=\"sk-container\" hidden><div class=\"sk-item sk-dashed-wrapped\"><div class=\"sk-label-container\"><div class=\"sk-label sk-toggleable\"><input class=\"sk-toggleable__control sk-hidden--visually\" id=\"sk-estimator-id-1\" type=\"checkbox\" ><label for=\"sk-estimator-id-1\" class=\"sk-toggleable__label sk-toggleable__label-arrow\">GridSearchCV</label><div class=\"sk-toggleable__content\"><pre>GridSearchCV(cv=KFold(n_splits=5, random_state=None, shuffle=True),\n",
       "             estimator=DecisionTreeClassifier(),\n",
       "             param_grid={&#x27;min_samples_leaf&#x27;: [1, 2, 5, 10, 20, 40]},\n",
       "             scoring=make_scorer(cohen_kappa_score))</pre></div></div></div><div class=\"sk-parallel\"><div class=\"sk-parallel-item\"><div class=\"sk-item\"><div class=\"sk-label-container\"><div class=\"sk-label sk-toggleable\"><input class=\"sk-toggleable__control sk-hidden--visually\" id=\"sk-estimator-id-2\" type=\"checkbox\" ><label for=\"sk-estimator-id-2\" class=\"sk-toggleable__label sk-toggleable__label-arrow\">estimator: DecisionTreeClassifier</label><div class=\"sk-toggleable__content\"><pre>DecisionTreeClassifier()</pre></div></div></div><div class=\"sk-serial\"><div class=\"sk-item\"><div class=\"sk-estimator sk-toggleable\"><input class=\"sk-toggleable__control sk-hidden--visually\" id=\"sk-estimator-id-3\" type=\"checkbox\" ><label for=\"sk-estimator-id-3\" class=\"sk-toggleable__label sk-toggleable__label-arrow\">DecisionTreeClassifier</label><div class=\"sk-toggleable__content\"><pre>DecisionTreeClassifier()</pre></div></div></div></div></div></div></div></div></div></div>"
      ],
      "text/plain": [
       "GridSearchCV(cv=KFold(n_splits=5, random_state=None, shuffle=True),\n",
       "             estimator=DecisionTreeClassifier(),\n",
       "             param_grid={'min_samples_leaf': [1, 2, 5, 10, 20, 40]},\n",
       "             scoring=make_scorer(cohen_kappa_score))"
      ]
     },
     "execution_count": 93,
     "metadata": {},
     "output_type": "execute_result"
    }
   ],
   "source": [
    "X = train_df[features]\n",
    "Y = train_df['class']\n",
    "\n",
    "grid.fit(X, Y)"
   ]
  },
  {
   "cell_type": "code",
   "execution_count": 95,
   "id": "fa52165c",
   "metadata": {},
   "outputs": [
    {
     "data": {
      "text/plain": [
       "{'min_samples_leaf': 10}"
      ]
     },
     "execution_count": 95,
     "metadata": {},
     "output_type": "execute_result"
    }
   ],
   "source": [
    "grid.best_params_"
   ]
  },
  {
   "cell_type": "code",
   "execution_count": 96,
   "id": "c5290b57",
   "metadata": {},
   "outputs": [
    {
     "data": {
      "text/plain": [
       "0.5214255182731353"
      ]
     },
     "execution_count": 96,
     "metadata": {},
     "output_type": "execute_result"
    }
   ],
   "source": [
    "test_X = test_df[features]\n",
    "test_Y = test_df['class']\n",
    "test_pred = grid.predict(test_X)\n",
    "kappa = metrics.cohen_kappa_score(test_Y, test_pred)\n",
    "kappa"
   ]
  },
  {
   "cell_type": "markdown",
   "id": "93cebe1e",
   "metadata": {},
   "source": [
    "### Make this for k-nearest neighbor"
   ]
  },
  {
   "cell_type": "code",
   "execution_count": 99,
   "id": "00d6d1bb",
   "metadata": {},
   "outputs": [
    {
     "name": "stdout",
     "output_type": "stream",
     "text": [
      "Best parameter {'n_neighbors': 1}\n"
     ]
    },
    {
     "data": {
      "text/plain": [
       "0.36842386250895354"
      ]
     },
     "execution_count": 99,
     "metadata": {},
     "output_type": "execute_result"
    }
   ],
   "source": [
    "from sklearn import neighbors\n",
    "\n",
    "model = neighbors.KNeighborsClassifier()\n",
    "#model = tree.DecisionTreeClassifier()\n",
    "\n",
    "param_dict = {'n_neighbors': [1, 2, 5, 10, 20, 40]}\n",
    "\n",
    "num_folds = 5\n",
    "xval = model_selection.KFold(num_folds, shuffle = True)\n",
    "scorer = metrics.make_scorer(metrics.cohen_kappa_score)\n",
    "\n",
    "grid = model_selection.GridSearchCV(model, param_dict, cv=xval, scoring = scorer)\n",
    "\n",
    "X = train_df[features]\n",
    "Y = train_df['class']\n",
    "\n",
    "grid.fit(X, Y)\n",
    "\n",
    "print('Best parameter', grid.best_params_)\n",
    "\n",
    "#test model using test_df\n",
    "test_X = test_df[features]\n",
    "test_Y = test_df['class']\n",
    "test_pred = grid.predict(test_X)\n",
    "kappa = metrics.cohen_kappa_score(test_Y, test_pred)\n",
    "kappa"
   ]
  },
  {
   "cell_type": "code",
   "execution_count": null,
   "id": "dd7cd3e1",
   "metadata": {},
   "outputs": [],
   "source": []
  }
 ],
 "metadata": {
  "kernelspec": {
   "display_name": "Python 3 (ipykernel)",
   "language": "python",
   "name": "python3"
  },
  "language_info": {
   "codemirror_mode": {
    "name": "ipython",
    "version": 3
   },
   "file_extension": ".py",
   "mimetype": "text/x-python",
   "name": "python",
   "nbconvert_exporter": "python",
   "pygments_lexer": "ipython3",
   "version": "3.11.4"
  }
 },
 "nbformat": 4,
 "nbformat_minor": 5
}
